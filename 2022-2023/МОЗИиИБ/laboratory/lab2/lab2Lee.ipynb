{
 "cells": [
  {
   "cell_type": "code",
   "execution_count": 1,
   "id": "french-myanmar",
   "metadata": {},
   "outputs": [],
   "source": [
    "rus='абвгдеёжзиклмнопрстуфхцчшщъыьэюя'\n",
    "def marsh(text,key,m,n):\n",
    "    global rus\n",
    "    textws=text.replace(' ','')\n",
    "    if len(textws)<m*n:\n",
    "        textws+=rus[:m*n-len(textws)]\n",
    "    t=iter(textws)\n",
    "    matrix=[[next(t) for y in range(m)] for x in range (n)]\n",
    "    ps=[rus.index(x) for x in key]\n",
    "    pss=sorted(ps)\n",
    "    output=''\n",
    "    for letter in pss:\n",
    "        for x in range(n):\n",
    "            output+=matrix[x][ps.index(letter)]\n",
    "    return output"
   ]
  },
  {
   "cell_type": "code",
   "execution_count": 7,
   "id": "outstanding-thickness",
   "metadata": {},
   "outputs": [
    {
     "name": "stdout",
     "output_type": "stream",
     "text": [
      "еенпнзоатаьовокннеьвлдирияцтиа\n"
     ]
    }
   ],
   "source": [
    "print(marsh('нельзя недооценивать противника','пароль',6,5))"
   ]
  },
  {
   "cell_type": "code",
   "execution_count": 15,
   "id": "ordinary-direction",
   "metadata": {},
   "outputs": [
    {
     "name": "stdout",
     "output_type": "stream",
     "text": [
      "овордлгпапиосдои\n"
     ]
    }
   ],
   "source": [
    "import numpy as np\n",
    "k=2\n",
    "k_2=[x+1 for x in range(k**2)]\n",
    "matrix=[[0 for x in range(2*k)]for y in range(2*k)]\n",
    "matrix=np.array(matrix)\n",
    "for x in range(k**2):\n",
    "    c=0\n",
    "    for x in range(k):\n",
    "        for y in range(k):\n",
    "            matrix[x][y]=k_2[c]\n",
    "            c+=1\n",
    "    matrix=np.rot90(matrix)\n",
    "ds={k: 0 for k in k_2}\n",
    "dss={1:2,2:4,3:3,4:3}\n",
    "for x in range(k**2):\n",
    "    for y in range(k**2):\n",
    "        ds[matrix[x][y]]+=1\n",
    "        if ds[matrix[x][y]]!=dss[matrix[x][y]]:\n",
    "            matrix[x][y]=-1\n",
    "        else:\n",
    "            matrix[x][y]=0\n",
    "text='договорподписали'\n",
    "key='шифр'\n",
    "ct=0\n",
    "t=iter(text)\n",
    "matrixt=[['О' for y in range(k**2)] for x in range(k**2)]\n",
    "for d in range(4):\n",
    "    for x in range(k**2):\n",
    "        for y in range(k**2):\n",
    "            if matrix[x][y]==0:\n",
    "                matrixt[x][y]=text[ct]\n",
    "                ct+=1\n",
    "    matrix=np.rot90(matrix,-1)\n",
    "ps=[rus.index(x) for x in key]\n",
    "pss=sorted(ps)\n",
    "output=''\n",
    "for letter in pss:\n",
    "    for x in range(k**2):\n",
    "        output+=matrixt[x][ps.index(letter)]\n",
    "print(output)"
   ]
  },
  {
   "cell_type": "code",
   "execution_count": 17,
   "id": "corporate-broadcast",
   "metadata": {},
   "outputs": [
    {
     "name": "stdout",
     "output_type": "stream",
     "text": [
      "HUDOICJWYJVSNIDJJBU\n"
     ]
    }
   ],
   "source": [
    "def genkey(m,key):\n",
    "    key.replace(' ','')\n",
    "    m.replace(' ','')\n",
    "    key=list(key)\n",
    "    if len(m)==len(key):\n",
    "        return(key)\n",
    "    else:\n",
    "        for i in range(len(m)-len(key)):\n",
    "            key.append(key[i%len(key)])\n",
    "    return(''.join(key))\n",
    "def vig(m,key):\n",
    "    ct=[]\n",
    "    m.replace(' ','')\n",
    "    for i in range(len(m)):\n",
    "        x=(ord(m[i])+ord(key[i]))%26\n",
    "        x+=ord('A')\n",
    "        ct.append(chr(x))\n",
    "    return(''.join(ct))\n",
    "def unvig(ct,key):\n",
    "    ot=[]\n",
    "    for i in range(len(ct)):\n",
    "        x=(ord(ct[i])-ord(key[i])+26)%26\n",
    "        x+=ord('A')\n",
    "        ot.append(chr(x))\n",
    "    return(''.join(ot))\n",
    "m='letsss go first try'\n",
    "key='key'\n",
    "print(vig(m,genkey(m,key)))"
   ]
  },
  {
   "cell_type": "code",
   "execution_count": null,
   "id": "false-johns",
   "metadata": {},
   "outputs": [],
   "source": []
  }
 ],
 "metadata": {
  "kernelspec": {
   "display_name": "Python 3",
   "language": "python",
   "name": "python3"
  },
  "language_info": {
   "codemirror_mode": {
    "name": "ipython",
    "version": 3
   },
   "file_extension": ".py",
   "mimetype": "text/x-python",
   "name": "python",
   "nbconvert_exporter": "python",
   "pygments_lexer": "ipython3",
   "version": "3.8.0"
  }
 },
 "nbformat": 4,
 "nbformat_minor": 5
}
