{
 "cells": [
  {
   "cell_type": "code",
   "execution_count": 1,
   "id": "rental-finish",
   "metadata": {},
   "outputs": [],
   "source": [
    "def euclid(a,b):\n",
    "    while a!=0 and b!=0:\n",
    "        if a>b:\n",
    "            a%=b\n",
    "        else:\n",
    "            b%=a\n",
    "    return a or b"
   ]
  },
  {
   "cell_type": "code",
   "execution_count": 2,
   "id": "italic-kinase",
   "metadata": {},
   "outputs": [
    {
     "data": {
      "text/plain": [
       "3"
      ]
     },
     "execution_count": 2,
     "metadata": {},
     "output_type": "execute_result"
    }
   ],
   "source": [
    "euclid(12345,54321)"
   ]
  },
  {
   "cell_type": "code",
   "execution_count": 3,
   "id": "norman-sugar",
   "metadata": {},
   "outputs": [],
   "source": [
    "def bin_euclid(a,b):\n",
    "    if a==b:\n",
    "        return a\n",
    "    g=0\n",
    "    while (a|b)&1==0:\n",
    "        g+=1\n",
    "        a>>=1\n",
    "        b>>=1\n",
    "    while a&1==0:\n",
    "        a>>=1\n",
    "    while b!=0:\n",
    "        while b&1==0:\n",
    "            b>>=1\n",
    "        if a>b:\n",
    "            a,b=b,a\n",
    "        b-=a\n",
    "    return a<<g"
   ]
  },
  {
   "cell_type": "code",
   "execution_count": 4,
   "id": "olive-teach",
   "metadata": {},
   "outputs": [
    {
     "data": {
      "text/plain": [
       "3"
      ]
     },
     "execution_count": 4,
     "metadata": {},
     "output_type": "execute_result"
    }
   ],
   "source": [
    "bin_euclid(12345,54321)"
   ]
  },
  {
   "cell_type": "code",
   "execution_count": 5,
   "id": "focal-award",
   "metadata": {},
   "outputs": [],
   "source": [
    "def ext_euclid(a,b):\n",
    "    if a==0:\n",
    "        y=0\n",
    "        x=1\n",
    "        return b,y,x\n",
    "    else:\n",
    "        d,x,y=ext_euclid(b%a,a)\n",
    "    return d,y-(b//a)*x,x"
   ]
  },
  {
   "cell_type": "code",
   "execution_count": 6,
   "id": "focused-mistake",
   "metadata": {},
   "outputs": [
    {
     "data": {
      "text/plain": [
       "(3, 3617, -822)"
      ]
     },
     "execution_count": 6,
     "metadata": {},
     "output_type": "execute_result"
    }
   ],
   "source": [
    "ext_euclid(12345,54321)"
   ]
  },
  {
   "cell_type": "code",
   "execution_count": 7,
   "id": "straight-cleaning",
   "metadata": {},
   "outputs": [],
   "source": [
    "def ext_bin_euclid(a,b):\n",
    "    g=1\n",
    "    while(a%2==0) and (b%2==0):\n",
    "        a/=2\n",
    "        b/=2\n",
    "        g*=2\n",
    "    u=a\n",
    "    v=b\n",
    "    A=1\n",
    "    B=0\n",
    "    C=0\n",
    "    D=1\n",
    "    while u!=0:\n",
    "        while u%2==0:\n",
    "            u/=2\n",
    "            if (A%2==0) and (B%2==0):\n",
    "                A/=2\n",
    "                B/=2\n",
    "            else:\n",
    "                A=(A+b)/2\n",
    "                B=(B-a)/2\n",
    "        while v%2==0:\n",
    "            v/=2\n",
    "            if (C%2==0) and (D%2==0):\n",
    "                C/=2\n",
    "                D/=2\n",
    "            else:\n",
    "                C=(C+b)/2\n",
    "                D=(D-a)/2\n",
    "        if u>=v:\n",
    "            u-=v\n",
    "            A-=C\n",
    "            B-=D\n",
    "        else:\n",
    "            v-=u\n",
    "            C-=A\n",
    "            D-=B\n",
    "    d=g*v\n",
    "    x=C\n",
    "    y=D\n",
    "    return d,x,y"
   ]
  },
  {
   "cell_type": "code",
   "execution_count": 8,
   "id": "hearing-fourth",
   "metadata": {},
   "outputs": [
    {
     "data": {
      "text/plain": [
       "(3.0, -14490.0, 3293.0)"
      ]
     },
     "execution_count": 8,
     "metadata": {},
     "output_type": "execute_result"
    }
   ],
   "source": [
    "ext_bin_euclid(12345,54321)"
   ]
  }
 ],
 "metadata": {
  "kernelspec": {
   "display_name": "Python 3",
   "language": "python",
   "name": "python3"
  },
  "language_info": {
   "codemirror_mode": {
    "name": "ipython",
    "version": 3
   },
   "file_extension": ".py",
   "mimetype": "text/x-python",
   "name": "python",
   "nbconvert_exporter": "python",
   "pygments_lexer": "ipython3",
   "version": "3.8.0"
  }
 },
 "nbformat": 4,
 "nbformat_minor": 5
}
