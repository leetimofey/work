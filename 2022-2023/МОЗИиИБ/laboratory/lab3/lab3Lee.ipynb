{
 "cells": [
  {
   "cell_type": "code",
   "execution_count": 1,
   "id": "assigned-measure",
   "metadata": {},
   "outputs": [],
   "source": [
    "import numpy as np"
   ]
  },
  {
   "cell_type": "code",
   "execution_count": 2,
   "id": "balanced-romantic",
   "metadata": {},
   "outputs": [],
   "source": [
    "def get_alph(option):\n",
    "    if option=='eng':\n",
    "        return list(map(chr,range(ord('a'),ord('z')+1)))\n",
    "    elif option=='rus':\n",
    "        return list(map(chr,range(ord('а'),ord('я')+1)))\n",
    "    else:\n",
    "        print('ошибка, введите eng или rus')"
   ]
  },
  {
   "cell_type": "code",
   "execution_count": 7,
   "id": "announced-optimum",
   "metadata": {},
   "outputs": [],
   "source": [
    "def gamma_encrypt(message: str, gamma: str):\n",
    "    alph=get_alph('eng')\n",
    "    if message.lower() not in alph:\n",
    "        alph=get_alph('rus')\n",
    "    print(alph)\n",
    "    m=len(alph)\n",
    "    def encrypt(letters_pair: tuple):\n",
    "        idx=(letters_pair[0]+1)+(letters_pair[1]+1)%m\n",
    "        if idx>m:\n",
    "            idx=idx-m\n",
    "        return idx-1\n",
    "    message_clear=list(filter(lambda s: s.lower() in alph,message))\n",
    "    gamma_clear=list(filter(lambda s: s.lower() in alph,gamma))\n",
    "    message_ind=list(map(lambda s: alph.index(s.lower()),message_clear))\n",
    "    gamma_ind=list(map(lambda s: alph.index(s.lower()),gamma_clear))\n",
    "    for i in range(len(message_ind)-len(gamma_ind)):\n",
    "        gamma_ind.append(gamma_ind[i])\n",
    "    print(f'{message.upper()} -> {message_ind}\\n{gamma.upper()} -> {gamma_ind}')\n",
    "    encrypted_ind=list(map(lambda s: encrypt(s),zip(message_ind,gamma_ind)))\n",
    "    print(f'encrypted form: {encrypted_ind}\\n')\n",
    "    return ''.join(list(map(lambda s: alph[s],encrypted_ind))).upper()"
   ]
  },
  {
   "cell_type": "code",
   "execution_count": 8,
   "id": "universal-dancing",
   "metadata": {},
   "outputs": [],
   "source": [
    "def test_encryption(message:str, gamma:str):\n",
    "    print(f'encryption result: {gamma_encrypt(message,gamma)}')"
   ]
  },
  {
   "cell_type": "code",
   "execution_count": 9,
   "id": "fancy-sarah",
   "metadata": {},
   "outputs": [
    {
     "name": "stdout",
     "output_type": "stream",
     "text": [
      "['а', 'б', 'в', 'г', 'д', 'е', 'ж', 'з', 'и', 'й', 'к', 'л', 'м', 'н', 'о', 'п', 'р', 'с', 'т', 'у', 'ф', 'х', 'ц', 'ч', 'ш', 'щ', 'ъ', 'ы', 'ь', 'э', 'ю', 'я']\n",
      "ПРИКАЗ -> [15, 16, 8, 10, 0, 7]\n",
      "ГАММА -> [3, 0, 12, 12, 0, 3]\n",
      "encrypted form: [19, 17, 21, 23, 1, 11]\n",
      "\n",
      "encryption result: УСХЧБЛ\n"
     ]
    }
   ],
   "source": [
    "message='приказ'\n",
    "gamma='гамма'\n",
    "test_encryption(message,gamma)"
   ]
  },
  {
   "cell_type": "code",
   "execution_count": 10,
   "id": "vocational-reduction",
   "metadata": {},
   "outputs": [
    {
     "name": "stdout",
     "output_type": "stream",
     "text": [
      "['а', 'б', 'в', 'г', 'д', 'е', 'ж', 'з', 'и', 'й', 'к', 'л', 'м', 'н', 'о', 'п', 'р', 'с', 'т', 'у', 'ф', 'х', 'ц', 'ч', 'ш', 'щ', 'ъ', 'ы', 'ь', 'э', 'ю', 'я']\n",
      "ОТ ПЕЧАЛИ НЕТ ТОЛКА ТЫ БЕГИ ДОГОНЯЙ МЕНЯ И Я ПОХОЖА НА ВОЛКА ВОЮ НА ЛУНУ -> [14, 18, 15, 5, 23, 0, 11, 8, 13, 5, 18, 18, 14, 11, 10, 0, 18, 27, 1, 5, 3, 8, 4, 14, 3, 14, 13, 31, 9, 12, 5, 13, 31, 8, 31, 15, 14, 21, 14, 6, 0, 13, 0, 2, 14, 11, 10, 0, 2, 14, 30, 13, 0, 11, 19, 13, 19]\n",
      "НЮША -> [13, 30, 24, 0, 13, 30, 24, 0, 13, 30, 24, 0, 13, 30, 24, 0, 13, 30, 24, 0, 13, 30, 24, 0, 13, 30, 24, 0, 13, 30, 24, 0, 13, 30, 24, 0, 13, 30, 24, 0, 13, 30, 24, 0, 13, 30, 24, 0, 13, 30, 24, 0, 13, 30, 24, 0, 13]\n",
      "encrypted form: [28, 17, 8, 6, 5, 31, 4, 9, 27, 4, 11, 19, 28, 10, 3, 1, 0, 26, 26, 6, 17, 7, 29, 15, 17, 13, 6, 0, 23, 11, 30, 14, 13, 7, 24, 16, 28, 20, 7, 7, 14, 12, 25, 3, 28, 10, 3, 1, 16, 13, 23, 14, 14, 10, 12, 14, 1]\n",
      "\n",
      "encryption result: ЬСИЖЕЯДЙЫДЛУЬКГБАЪЪЖСЗЭПСНЖАЧЛЮОНЗШРЬФЗЗОМЩГЬКГБРНЧООКМОБ\n"
     ]
    }
   ],
   "source": [
    "message='от печали нет толка ты беги догоняй меня и я похожа на волка вою на луну'\n",
    "gamma='нюша'\n",
    "test_encryption(message,gamma)"
   ]
  }
 ],
 "metadata": {
  "kernelspec": {
   "display_name": "Python 3",
   "language": "python",
   "name": "python3"
  },
  "language_info": {
   "codemirror_mode": {
    "name": "ipython",
    "version": 3
   },
   "file_extension": ".py",
   "mimetype": "text/x-python",
   "name": "python",
   "nbconvert_exporter": "python",
   "pygments_lexer": "ipython3",
   "version": "3.8.0"
  }
 },
 "nbformat": 4,
 "nbformat_minor": 5
}
