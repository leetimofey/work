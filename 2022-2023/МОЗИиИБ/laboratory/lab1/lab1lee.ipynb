{
 "cells": [
  {
   "cell_type": "code",
   "execution_count": 14,
   "id": "collect-mouse",
   "metadata": {},
   "outputs": [],
   "source": [
    "def ceasar(letter: chr, key: int, alphabet: list):\n",
    "    def ceasar(letter:chr, key:int):\n",
    "        return alphabet.index(letter)+key\n",
    "    if letter.lower() not in alphabet:\n",
    "        return letter\n",
    "    t_letter=alphabet[ceasar(letter.lower(),key)%len(alphabet)]\n",
    "    if letter.isupper():\n",
    "        t_letter=t_letter.upper()\n",
    "    return t_letter"
   ]
  },
  {
   "cell_type": "code",
   "execution_count": 24,
   "id": "physical-sarah",
   "metadata": {},
   "outputs": [],
   "source": [
    "eng=list(map(chr, range(97,123)))\n",
    "eng2=list(map(chr, range(97,123)))+list(chr(32))"
   ]
  },
  {
   "cell_type": "code",
   "execution_count": 16,
   "id": "reverse-skirt",
   "metadata": {},
   "outputs": [],
   "source": [
    "def run_ceasar(message: str, key:int, alphabet:list):\n",
    "    a=list(map(lambda letter: ceasar(letter,key,alphabet),message))\n",
    "    return \"\".join(a)"
   ]
  },
  {
   "cell_type": "code",
   "execution_count": 17,
   "id": "funded-walker",
   "metadata": {},
   "outputs": [
    {
     "data": {
      "text/plain": [
       "'ohvvvv jr iluvw wub'"
      ]
     },
     "execution_count": 17,
     "metadata": {},
     "output_type": "execute_result"
    }
   ],
   "source": [
    "run_ceasar(\"lessss go first try\",3,eng)"
   ]
  },
  {
   "cell_type": "code",
   "execution_count": 18,
   "id": "employed-edward",
   "metadata": {},
   "outputs": [
    {
     "data": {
      "text/plain": [
       "'lessss go first try'"
      ]
     },
     "execution_count": 18,
     "metadata": {},
     "output_type": "execute_result"
    }
   ],
   "source": [
    "run_ceasar(\"ohvvvv jr iluvw wub\",23,eng)"
   ]
  },
  {
   "cell_type": "code",
   "execution_count": 19,
   "id": "integral-terrorism",
   "metadata": {},
   "outputs": [],
   "source": [
    "def atbash(letter:chr, alphabet:list):\n",
    "    if letter.lower() not in alphabet:\n",
    "        return letter\n",
    "    t_letter=alphabet[len(alphabet)-alphabet.index(letter.lower())-1]\n",
    "    if letter.isupper():\n",
    "        t_letter=t_letter.upper()\n",
    "    return t_letter"
   ]
  },
  {
   "cell_type": "code",
   "execution_count": 20,
   "id": "iraqi-citizenship",
   "metadata": {},
   "outputs": [],
   "source": [
    "def run_atbash(message: str, alphabet:list):\n",
    "    a=list(map(lambda letter: atbash(letter,alphabet),message))\n",
    "    return \"\".join(a)"
   ]
  },
  {
   "cell_type": "code",
   "execution_count": 26,
   "id": "palestinian-inflation",
   "metadata": {},
   "outputs": [
    {
     "data": {
      "text/plain": [
       "' zyxwvutsrqponmlkjihgfedcba'"
      ]
     },
     "execution_count": 26,
     "metadata": {},
     "output_type": "execute_result"
    }
   ],
   "source": [
    "run_atbash(\"abcdefghijklmnopqrstuvwxyz \",eng2)"
   ]
  },
  {
   "cell_type": "code",
   "execution_count": null,
   "id": "brilliant-fault",
   "metadata": {},
   "outputs": [],
   "source": []
  }
 ],
 "metadata": {
  "kernelspec": {
   "display_name": "Python 3",
   "language": "python",
   "name": "python3"
  },
  "language_info": {
   "codemirror_mode": {
    "name": "ipython",
    "version": 3
   },
   "file_extension": ".py",
   "mimetype": "text/x-python",
   "name": "python",
   "nbconvert_exporter": "python",
   "pygments_lexer": "ipython3",
   "version": "3.8.0"
  }
 },
 "nbformat": 4,
 "nbformat_minor": 5
}
