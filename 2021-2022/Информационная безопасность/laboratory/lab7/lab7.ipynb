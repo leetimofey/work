{
 "cells": [
  {
   "cell_type": "code",
   "execution_count": 1,
   "id": "magnetic-harvey",
   "metadata": {},
   "outputs": [],
   "source": [
    "import numpy as np\n",
    "import pandas as pd\n",
    "import sys"
   ]
  },
  {
   "cell_type": "code",
   "execution_count": 6,
   "id": "arbitrary-purpose",
   "metadata": {},
   "outputs": [],
   "source": [
    "a=\"С Новым Годом, друзья!\"\n",
    "def crypt(a):\n",
    "    print(\"open text: \", a)\n",
    "    text=[]\n",
    "    for i in a:\n",
    "        text.append(i.encode(\"cp1251\").hex())\n",
    "    print(\"open text in 16: \", *text)\n",
    "    k=np.random.randint(0, 255, len(a))\n",
    "    key=[hex(i)[2:] for i in k]\n",
    "    newkey=[]\n",
    "    for i in key:\n",
    "        newkey.append(i.encode(\"cp1251\").hex().upper())\n",
    "    print(\"key in 16: \", *key)\n",
    "    b=[]\n",
    "    for i in range(len(text)):\n",
    "        b.append(\"{:02x}\".format(int(key[i],16)^int(text[i],16)))\n",
    "    print(\"cypher text in 16: \", *b)\n",
    "    fintext=bytearray.fromhex(\"\".join(b)).decode(\"cp1251\")\n",
    "    print(\"cypher text: \", fintext)\n",
    "    return key, b, fintext"
   ]
  },
  {
   "cell_type": "code",
   "execution_count": 7,
   "id": "russian-forward",
   "metadata": {},
   "outputs": [
    {
     "name": "stdout",
     "output_type": "stream",
     "text": [
      "open text:  С Новым Годом, друзья!\n",
      "open text in 16:  d1 20 cd ee e2 fb ec 20 c3 ee e4 ee ec 2c 20 e4 f0 f3 e7 fc ff 21\n",
      "key in 16:  d9 3 78 83 9a e4 ae bc ee fa 60 f0 ab 9 b6 e0 d1 10 8b a a6 64\n",
      "cypher text in 16:  08 23 b5 6d 78 1f 42 9c 2d 14 84 1e 47 25 96 04 21 e3 6c f6 59 45\n",
      "cypher text:  \b#µmx\u001fBњ-\u0014„\u001e",
      "G%–\u0004!гlцYE\n"
     ]
    }
   ],
   "source": [
    "key, b, fintext=crypt(a)"
   ]
  },
  {
   "cell_type": "code",
   "execution_count": 8,
   "id": "distinct-windows",
   "metadata": {},
   "outputs": [],
   "source": [
    "def findkey(a,fintext):\n",
    "    print(\"open text: \", a, \"\\ncypher text: \", fintext)\n",
    "    newtext=[]\n",
    "    for i in a:\n",
    "        newtext.append(i.encode(\"cp1251\").hex())\n",
    "    print(\"open text in 16: \", *newtext)\n",
    "    ftext=[]\n",
    "    for i in fintext:\n",
    "        ftext.append(i.encode(\"cp1251\").hex())\n",
    "    print(\"cypher text in 16: \", *ftext)\n",
    "    key=[hex(int(i,16)^int(j,16))[2:] for (i,j) in zip(newtext,ftext)]\n",
    "    print(\"found key in 16: \", *key)\n",
    "    return key"
   ]
  },
  {
   "cell_type": "code",
   "execution_count": 9,
   "id": "bottom-fifth",
   "metadata": {},
   "outputs": [
    {
     "name": "stdout",
     "output_type": "stream",
     "text": [
      "open text:  С Новым Годом, друзья! \n",
      "cypher text:  \b#µmx\u001fBњ-\u0014„\u001e",
      "G%–\u0004!гlцYE\n",
      "open text in 16:  d1 20 cd ee e2 fb ec 20 c3 ee e4 ee ec 2c 20 e4 f0 f3 e7 fc ff 21\n",
      "cypher text in 16:  08 23 b5 6d 78 1f 42 9c 2d 14 84 1e 47 25 96 04 21 e3 6c f6 59 45\n",
      "found key in 16:  d9 3 78 83 9a e4 ae bc ee fa 60 f0 ab 9 b6 e0 d1 10 8b a a6 64\n"
     ]
    }
   ],
   "source": [
    "keyy=findkey(a,fintext)"
   ]
  },
  {
   "cell_type": "code",
   "execution_count": 11,
   "id": "southwest-applicant",
   "metadata": {},
   "outputs": [
    {
     "name": "stdout",
     "output_type": "stream",
     "text": [
      "correct key\n"
     ]
    }
   ],
   "source": [
    "if key==keyy:\n",
    "    print(\"correct key\")\n",
    "else:\n",
    "    print(\"incorrect key\")"
   ]
  },
  {
   "cell_type": "code",
   "execution_count": null,
   "id": "average-durham",
   "metadata": {},
   "outputs": [],
   "source": []
  }
 ],
 "metadata": {
  "kernelspec": {
   "display_name": "Python 3",
   "language": "python",
   "name": "python3"
  },
  "language_info": {
   "codemirror_mode": {
    "name": "ipython",
    "version": 3
   },
   "file_extension": ".py",
   "mimetype": "text/x-python",
   "name": "python",
   "nbconvert_exporter": "python",
   "pygments_lexer": "ipython3",
   "version": "3.8.0"
  }
 },
 "nbformat": 4,
 "nbformat_minor": 5
}
