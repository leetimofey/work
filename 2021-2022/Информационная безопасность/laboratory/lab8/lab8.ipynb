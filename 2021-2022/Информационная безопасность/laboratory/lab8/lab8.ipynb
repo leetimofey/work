{
 "cells": [
  {
   "cell_type": "code",
   "execution_count": 1,
   "id": "racial-monitoring",
   "metadata": {},
   "outputs": [],
   "source": [
    "import numpy as np\n",
    "import operator as op\n",
    "import sys"
   ]
  },
  {
   "cell_type": "code",
   "execution_count": 2,
   "id": "latest-stanley",
   "metadata": {},
   "outputs": [
    {
     "name": "stdout",
     "output_type": "stream",
     "text": [
      "18\n",
      "18\n"
     ]
    }
   ],
   "source": [
    "p1=\"поставьте максимум\"\n",
    "print(len(p1))\n",
    "p2=\"очень хочу пятерку\"\n",
    "print(len(p2))"
   ]
  },
  {
   "cell_type": "code",
   "execution_count": 3,
   "id": "successful-trust",
   "metadata": {},
   "outputs": [],
   "source": [
    "def encrypt(text1,text2):\n",
    "    print(\"text1: \", text1)\n",
    "    newtext1=[]\n",
    "    for i in text1:\n",
    "        newtext1.append(i.encode(\"cp1251\").hex())\n",
    "    print(\"text1 in 16: \", newtext1)\n",
    "    print(\"text2: \", text2)\n",
    "    newtext2=[]\n",
    "    for i in text2:\n",
    "        newtext2.append(i.encode(\"cp1251\").hex())\n",
    "    print(\"text2 in 16: \", newtext2)\n",
    "    r=np.random.randint(0,255, len(text1))\n",
    "    key=[hex(i)[2:] for i in r]\n",
    "    newkey=[]\n",
    "    for i in key:\n",
    "        newkey.append(i.encode(\"cp1251\").hex().upper())\n",
    "    print(\"key in 16: \", key)\n",
    "    xortext1=[]\n",
    "    for i in range(len(newtext1)):\n",
    "        xortext1.append(\"{:02x}\".format(int(key[i], 16) ^ int(newtext1[i],16)))\n",
    "    print(\"cypher text1 in 16: \", xortext1)\n",
    "    en_text1=bytearray.fromhex(\"\".join(xortext1)).decode(\"cp1251\")\n",
    "    print(\"cypher text1: \", en_text1)\n",
    "    xortext2=[]\n",
    "    for i in range(len(newtext2)):\n",
    "        xortext2.append(\"{:02x}\".format(int(key[i], 16) ^ int(newtext2[i],16)))\n",
    "    print(\"cypher text2 in 16: \", xortext2)\n",
    "    en_text2=bytearray.fromhex(\"\".join(xortext2)).decode(\"cp1251\")\n",
    "    print(\"cypher text2: \", en_text2)\n",
    "    return key, xortext1, en_text1, xortext2, en_text2"
   ]
  },
  {
   "cell_type": "code",
   "execution_count": 4,
   "id": "rolled-cookbook",
   "metadata": {},
   "outputs": [
    {
     "name": "stdout",
     "output_type": "stream",
     "text": [
      "text1:  поставьте максимум\n",
      "text1 in 16:  ['ef', 'ee', 'f1', 'f2', 'e0', 'e2', 'fc', 'f2', 'e5', '20', 'ec', 'e0', 'ea', 'f1', 'e8', 'ec', 'f3', 'ec']\n",
      "text2:  очень хочу пятерку\n",
      "text2 in 16:  ['ee', 'f7', 'e5', 'ed', 'fc', '20', 'f5', 'ee', 'f7', 'f3', '20', 'ef', 'ff', 'f2', 'e5', 'f0', 'ea', 'f3']\n",
      "key in 16:  ['7a', '89', '8a', 'f3', 'ce', 'f8', 'd9', '50', 'a6', '7f', '60', '7d', '64', '4', 'f2', 'ec', '10', '9b']\n",
      "cypher text1 in 16:  ['95', '67', '7b', '01', '2e', '1a', '25', 'a2', '43', '5f', '8c', '9d', '8e', 'f5', '1a', '00', 'e3', '77']\n",
      "cypher text1:  •g{\u0001.\u001a%ўC_ЊќЋх\u001a\u0000гw\n",
      "cypher text2 in 16:  ['94', '7e', '6f', '1e', '32', 'd8', '2c', 'be', '51', '8c', '40', '92', '9b', 'f6', '17', '1c', 'fa', '68']\n",
      "cypher text2:  ”~o\u001e",
      "2Ш,ѕQЊ@’›ц\u0017\u001c",
      "ъh\n"
     ]
    }
   ],
   "source": [
    "k, t1, et1, t2, et2=encrypt(p1,p2)"
   ]
  },
  {
   "cell_type": "code",
   "execution_count": 5,
   "id": "constant-discharge",
   "metadata": {},
   "outputs": [],
   "source": [
    "def decrypt(c1, c2, p1):\n",
    "    print(\"cypher text1: \", c1)\n",
    "    newc1=[]\n",
    "    for i in c1:\n",
    "        newc1.append(i.encode(\"cp1251\").hex())\n",
    "    print(\"cypher text1 in 16: \", newc1)\n",
    "    print(\"cypher text2: \", c2)\n",
    "    newc2=[]\n",
    "    for i in c2:\n",
    "        newc2.append(i.encode(\"cp1251\").hex())\n",
    "    print(\"cypher text2 in 16: \", newc2)\n",
    "    print(\"open text1: \", p1)\n",
    "    newp1=[]\n",
    "    for i in p1:\n",
    "        newp1.append(i.encode(\"cp1251\").hex())\n",
    "    print(\"open text1 in 16: \", newp1)\n",
    "    xortmp=[]\n",
    "    sp2=[]\n",
    "    for i in range(len(p1)):\n",
    "        xortmp.append(\"{:02x}\".format(int(newc1[i],16) ^ int(newc2[i], 16)))\n",
    "        sp2.append(\"{:02x}\".format(int(xortmp[i],16) ^ int(newp1[i], 16)))\n",
    "    print(\"open text2 in 16: \", sp2)\n",
    "    p2=bytearray.fromhex(\"\".join(sp2)).decode(\"cp1251\")\n",
    "    print(\"open text2: \", p2)\n",
    "    return p1, p2"
   ]
  },
  {
   "cell_type": "code",
   "execution_count": 6,
   "id": "graduate-combine",
   "metadata": {},
   "outputs": [
    {
     "name": "stdout",
     "output_type": "stream",
     "text": [
      "cypher text1:  •g{\u0001.\u001a%ўC_ЊќЋх\u001a\u0000гw\n",
      "cypher text1 in 16:  ['95', '67', '7b', '01', '2e', '1a', '25', 'a2', '43', '5f', '8c', '9d', '8e', 'f5', '1a', '00', 'e3', '77']\n",
      "cypher text2:  ”~o\u001e",
      "2Ш,ѕQЊ@’›ц\u0017\u001c",
      "ъh\n",
      "cypher text2 in 16:  ['94', '7e', '6f', '1e', '32', 'd8', '2c', 'be', '51', '8c', '40', '92', '9b', 'f6', '17', '1c', 'fa', '68']\n",
      "open text1:  поставьте максимум\n",
      "open text1 in 16:  ['ef', 'ee', 'f1', 'f2', 'e0', 'e2', 'fc', 'f2', 'e5', '20', 'ec', 'e0', 'ea', 'f1', 'e8', 'ec', 'f3', 'ec']\n",
      "open text2 in 16:  ['ee', 'f7', 'e5', 'ed', 'fc', '20', 'f5', 'ee', 'f7', 'f3', '20', 'ef', 'ff', 'f2', 'e5', 'f0', 'ea', 'f3']\n",
      "open text2:  очень хочу пятерку\n"
     ]
    },
    {
     "data": {
      "text/plain": [
       "('поставьте максимум', 'очень хочу пятерку')"
      ]
     },
     "execution_count": 6,
     "metadata": {},
     "output_type": "execute_result"
    }
   ],
   "source": [
    "decrypt(et1, et2, p1)"
   ]
  },
  {
   "cell_type": "code",
   "execution_count": 8,
   "id": "focal-contents",
   "metadata": {},
   "outputs": [
    {
     "name": "stdout",
     "output_type": "stream",
     "text": [
      "cypher text1:  ”~o\u001e",
      "2Ш,ѕQЊ@’›ц\u0017\u001c",
      "ъh\n",
      "cypher text1 in 16:  ['94', '7e', '6f', '1e', '32', 'd8', '2c', 'be', '51', '8c', '40', '92', '9b', 'f6', '17', '1c', 'fa', '68']\n",
      "cypher text2:  •g{\u0001.\u001a%ўC_ЊќЋх\u001a\u0000гw\n",
      "cypher text2 in 16:  ['95', '67', '7b', '01', '2e', '1a', '25', 'a2', '43', '5f', '8c', '9d', '8e', 'f5', '1a', '00', 'e3', '77']\n",
      "open text1:  очень хочу пятерку\n",
      "open text1 in 16:  ['ee', 'f7', 'e5', 'ed', 'fc', '20', 'f5', 'ee', 'f7', 'f3', '20', 'ef', 'ff', 'f2', 'e5', 'f0', 'ea', 'f3']\n",
      "open text2 in 16:  ['ef', 'ee', 'f1', 'f2', 'e0', 'e2', 'fc', 'f2', 'e5', '20', 'ec', 'e0', 'ea', 'f1', 'e8', 'ec', 'f3', 'ec']\n",
      "open text2:  поставьте максимум\n"
     ]
    },
    {
     "data": {
      "text/plain": [
       "('очень хочу пятерку', 'поставьте максимум')"
      ]
     },
     "execution_count": 8,
     "metadata": {},
     "output_type": "execute_result"
    }
   ],
   "source": [
    "decrypt(et2, et1, p2)"
   ]
  },
  {
   "cell_type": "code",
   "execution_count": null,
   "id": "proved-peoples",
   "metadata": {},
   "outputs": [],
   "source": []
  }
 ],
 "metadata": {
  "kernelspec": {
   "display_name": "Python 3",
   "language": "python",
   "name": "python3"
  },
  "language_info": {
   "codemirror_mode": {
    "name": "ipython",
    "version": 3
   },
   "file_extension": ".py",
   "mimetype": "text/x-python",
   "name": "python",
   "nbconvert_exporter": "python",
   "pygments_lexer": "ipython3",
   "version": "3.8.0"
  }
 },
 "nbformat": 4,
 "nbformat_minor": 5
}
