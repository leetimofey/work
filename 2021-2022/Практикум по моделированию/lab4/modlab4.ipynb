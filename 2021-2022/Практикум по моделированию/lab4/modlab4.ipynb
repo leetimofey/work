{
 "cells": [
  {
   "cell_type": "code",
   "execution_count": 1,
   "id": "992579a5-3788-4599-bd82-fcb582252af9",
   "metadata": {},
   "outputs": [
    {
     "data": {
      "text/plain": [
       "4×3 Matrix{Int64}:\n",
       "  8  10  16\n",
       "  5  17   9\n",
       " 19  14   2\n",
       " 15   4   3"
      ]
     },
     "execution_count": 1,
     "metadata": {},
     "output_type": "execute_result"
    }
   ],
   "source": [
    "a=rand(1:20,(4,3))"
   ]
  },
  {
   "cell_type": "code",
   "execution_count": 2,
   "id": "586c49d9-05ec-4d67-9556-7a5073f4ac0e",
   "metadata": {},
   "outputs": [
    {
     "name": "stdout",
     "output_type": "stream",
     "text": [
      "122\n",
      "[47 45 30]\n",
      "[34; 31; 35; 22]\n"
     ]
    }
   ],
   "source": [
    "println(sum(a))\n",
    "println(sum(a,dims=1))\n",
    "println(sum(a,dims=2))"
   ]
  },
  {
   "cell_type": "code",
   "execution_count": 3,
   "id": "7e6caf87-6b41-4fd4-ab1e-5d1643637c0d",
   "metadata": {},
   "outputs": [
    {
     "name": "stdout",
     "output_type": "stream",
     "text": [
      "93768192000\n",
      "[11400 9520 864]\n",
      "[1280; 765; 532; 180]\n"
     ]
    }
   ],
   "source": [
    "println(prod(a))\n",
    "println(prod(a,dims=1))\n",
    "println(prod(a,dims=2))"
   ]
  },
  {
   "cell_type": "code",
   "execution_count": 4,
   "id": "c9b214e6-8415-44b3-9333-b883d9491974",
   "metadata": {},
   "outputs": [
    {
     "name": "stderr",
     "output_type": "stream",
     "text": [
      "\u001b[32m\u001b[1m    Updating\u001b[22m\u001b[39m registry at `C:\\Users\\Xiaomi\\.julia\\registries\\General`\n",
      "\u001b[32m\u001b[1m    Updating\u001b[22m\u001b[39m git-repo `https://github.com/JuliaRegistries/General.git`\n",
      "\u001b[32m\u001b[1m   Resolving\u001b[22m\u001b[39m package versions...\n",
      "\u001b[32m\u001b[1m    Updating\u001b[22m\u001b[39m `C:\\Users\\Xiaomi\\.julia\\environments\\v1.6\\Project.toml`\n",
      " \u001b[90m [10745b16] \u001b[39m\u001b[92m+ Statistics\u001b[39m\n",
      "\u001b[32m\u001b[1m  No Changes\u001b[22m\u001b[39m to `C:\\Users\\Xiaomi\\.julia\\environments\\v1.6\\Manifest.toml`\n"
     ]
    }
   ],
   "source": [
    "import Pkg\n",
    "Pkg.add(\"Statistics\")"
   ]
  },
  {
   "cell_type": "code",
   "execution_count": 5,
   "id": "83245673-6b8c-4bd2-9b0b-df509350a614",
   "metadata": {},
   "outputs": [
    {
     "name": "stdout",
     "output_type": "stream",
     "text": [
      "10.166666666666666\n",
      "[11.75 11.25 7.5]\n",
      "[11.333333333333334; 10.333333333333334; 11.666666666666666; 7.333333333333333]\n"
     ]
    }
   ],
   "source": [
    "using Statistics\n",
    "println(mean(a))\n",
    "println(mean(a,dims=1))\n",
    "println(mean(a,dims=2))"
   ]
  },
  {
   "cell_type": "code",
   "execution_count": 6,
   "id": "2829e8d2-d013-4fbb-8a77-0bb1a02b8124",
   "metadata": {},
   "outputs": [
    {
     "name": "stderr",
     "output_type": "stream",
     "text": [
      "\u001b[32m\u001b[1m   Resolving\u001b[22m\u001b[39m package versions...\n",
      "\u001b[32m\u001b[1m    Updating\u001b[22m\u001b[39m `C:\\Users\\Xiaomi\\.julia\\environments\\v1.6\\Project.toml`\n",
      " \u001b[90m [37e2e46d] \u001b[39m\u001b[92m+ LinearAlgebra\u001b[39m\n",
      "\u001b[32m\u001b[1m  No Changes\u001b[22m\u001b[39m to `C:\\Users\\Xiaomi\\.julia\\environments\\v1.6\\Manifest.toml`\n"
     ]
    }
   ],
   "source": [
    "Pkg.add(\"LinearAlgebra\")"
   ]
  },
  {
   "cell_type": "code",
   "execution_count": 7,
   "id": "401b6497-f97f-4f47-865a-cd6bb35374f4",
   "metadata": {},
   "outputs": [
    {
     "data": {
      "text/plain": [
       "4×4 Matrix{Int64}:\n",
       "  7  20   6   4\n",
       " 15  11  11  15\n",
       "  8  17   5  11\n",
       "  2  17  15   5"
      ]
     },
     "execution_count": 7,
     "metadata": {},
     "output_type": "execute_result"
    }
   ],
   "source": [
    "using LinearAlgebra\n",
    "b=rand(1:20,(4,4))"
   ]
  },
  {
   "cell_type": "code",
   "execution_count": 8,
   "id": "1266a010-da48-4b86-9366-d694d58c7b5b",
   "metadata": {},
   "outputs": [
    {
     "data": {
      "text/plain": [
       "4×4 transpose(::Matrix{Int64}) with eltype Int64:\n",
       "  7  15   8   2\n",
       " 20  11  17  17\n",
       "  6  11   5  15\n",
       "  4  15  11   5"
      ]
     },
     "execution_count": 8,
     "metadata": {},
     "output_type": "execute_result"
    }
   ],
   "source": [
    "transpose(b)"
   ]
  },
  {
   "cell_type": "code",
   "execution_count": 9,
   "id": "076ca314-5ed3-4bf9-a20a-c4f3df89d924",
   "metadata": {},
   "outputs": [
    {
     "data": {
      "text/plain": [
       "28"
      ]
     },
     "execution_count": 9,
     "metadata": {},
     "output_type": "execute_result"
    }
   ],
   "source": [
    "tr(b)"
   ]
  },
  {
   "cell_type": "code",
   "execution_count": 10,
   "id": "8ffafb63-7af9-4d72-90fb-3f86ecdd299f",
   "metadata": {},
   "outputs": [
    {
     "data": {
      "text/plain": [
       "4-element Vector{Int64}:\n",
       "  7\n",
       " 11\n",
       "  5\n",
       "  5"
      ]
     },
     "execution_count": 10,
     "metadata": {},
     "output_type": "execute_result"
    }
   ],
   "source": [
    "diag(b)"
   ]
  },
  {
   "cell_type": "code",
   "execution_count": 11,
   "id": "9a3bd1c3-a64f-4086-ba1f-533d602bce11",
   "metadata": {},
   "outputs": [
    {
     "data": {
      "text/plain": [
       "4"
      ]
     },
     "execution_count": 11,
     "metadata": {},
     "output_type": "execute_result"
    }
   ],
   "source": [
    "rank(b)"
   ]
  },
  {
   "cell_type": "code",
   "execution_count": 12,
   "id": "55481e83-8911-48e0-b37b-69cc8eb1bd30",
   "metadata": {},
   "outputs": [
    {
     "data": {
      "text/plain": [
       "4×4 Matrix{Float64}:\n",
       "  0.126543    0.0895062  -0.135802   -0.0709877\n",
       "  0.0384615  -0.0384615   0.0384615   0.0\n",
       " -0.0117521   0.0395299  -0.0811966   0.0694444\n",
       " -0.14613    -0.023623    0.167142    0.0200617"
      ]
     },
     "execution_count": 12,
     "metadata": {},
     "output_type": "execute_result"
    }
   ],
   "source": [
    "inv(b)"
   ]
  },
  {
   "cell_type": "code",
   "execution_count": 13,
   "id": "a39283ba-74ff-4129-bf2b-467e5af17372",
   "metadata": {},
   "outputs": [
    {
     "data": {
      "text/plain": [
       "16848.0"
      ]
     },
     "execution_count": 13,
     "metadata": {},
     "output_type": "execute_result"
    }
   ],
   "source": [
    "det(b)"
   ]
  },
  {
   "cell_type": "code",
   "execution_count": 14,
   "id": "53fb9dab-980e-4623-aca5-9eaf6bf3a9cd",
   "metadata": {},
   "outputs": [
    {
     "data": {
      "text/plain": [
       "4×4 Matrix{Float64}:\n",
       "  0.126543    0.0895062  -0.135802   -0.0709877\n",
       "  0.0384615  -0.0384615   0.0384615   2.14255e-17\n",
       " -0.0117521   0.0395299  -0.0811966   0.0694444\n",
       " -0.14613    -0.023623    0.167142    0.0200617"
      ]
     },
     "execution_count": 14,
     "metadata": {},
     "output_type": "execute_result"
    }
   ],
   "source": [
    "pinv(b)"
   ]
  },
  {
   "cell_type": "code",
   "execution_count": 15,
   "id": "1ed6ca62-e9e2-4e8d-b81d-9e1be2ba345a",
   "metadata": {},
   "outputs": [
    {
     "name": "stdout",
     "output_type": "stream",
     "text": [
      "6.708203932499369\n",
      "11.0\n"
     ]
    }
   ],
   "source": [
    "x=[2,4,-5]\n",
    "println(norm(x))\n",
    "p=1\n",
    "println(norm(x,p))"
   ]
  },
  {
   "cell_type": "code",
   "execution_count": 16,
   "id": "d027927b-0aac-45b8-8fd8-e3ffe2866204",
   "metadata": {},
   "outputs": [
    {
     "name": "stdout",
     "output_type": "stream",
     "text": [
      "9.486832980505138\n"
     ]
    }
   ],
   "source": [
    "y=[1,-1,3]\n",
    "println(norm(x-y))"
   ]
  },
  {
   "cell_type": "code",
   "execution_count": 17,
   "id": "7097fbb3-7b16-494e-a840-1d4278e58ff0",
   "metadata": {},
   "outputs": [
    {
     "name": "stdout",
     "output_type": "stream",
     "text": [
      "90\n"
     ]
    }
   ],
   "source": [
    "println(sum((x-y).^2))"
   ]
  },
  {
   "cell_type": "code",
   "execution_count": 19,
   "id": "a368c47a-fca3-4a24-aee2-1740c0bbe2d6",
   "metadata": {},
   "outputs": [
    {
     "data": {
      "text/plain": [
       "2.4404307889469252"
      ]
     },
     "execution_count": 19,
     "metadata": {},
     "output_type": "execute_result"
    }
   ],
   "source": [
    "acos((transpose(x)*y)/(norm(x)*norm(y)))"
   ]
  },
  {
   "cell_type": "code",
   "execution_count": 20,
   "id": "48fec84f-a9d3-43b1-9760-302b0ef50c0f",
   "metadata": {},
   "outputs": [
    {
     "name": "stdout",
     "output_type": "stream",
     "text": [
      "7.147682841795258\n",
      "8.0\n"
     ]
    }
   ],
   "source": [
    "d=[5 -4 2; -1 2 3; -2 1 0]\n",
    "println(opnorm(d))\n",
    "println(opnorm(d,p))"
   ]
  },
  {
   "cell_type": "code",
   "execution_count": 21,
   "id": "9ef7ea47-54ec-46f4-bc0e-2c4891c6e046",
   "metadata": {},
   "outputs": [
    {
     "data": {
      "text/plain": [
       "3×3 Matrix{Int64}:\n",
       " 0   1  -2\n",
       " 3   2  -1\n",
       " 2  -4   5"
      ]
     },
     "execution_count": 21,
     "metadata": {},
     "output_type": "execute_result"
    }
   ],
   "source": [
    "rot180(d)"
   ]
  },
  {
   "cell_type": "code",
   "execution_count": 22,
   "id": "af0d1208-4b0d-4a21-ac99-e6b1bc5b6c82",
   "metadata": {},
   "outputs": [
    {
     "data": {
      "text/plain": [
       "3×3 Matrix{Int64}:\n",
       " -2   1  0\n",
       " -1   2  3\n",
       "  5  -4  2"
      ]
     },
     "execution_count": 22,
     "metadata": {},
     "output_type": "execute_result"
    }
   ],
   "source": [
    "reverse(d,dims=1)"
   ]
  },
  {
   "cell_type": "code",
   "execution_count": 23,
   "id": "5de6af2b-6402-4a36-a23f-8e5a17693690",
   "metadata": {},
   "outputs": [
    {
     "data": {
      "text/plain": [
       "3×3 Matrix{Int64}:\n",
       " 2  -4   5\n",
       " 3   2  -1\n",
       " 0   1  -2"
      ]
     },
     "execution_count": 23,
     "metadata": {},
     "output_type": "execute_result"
    }
   ],
   "source": [
    "reverse(d,dims=2)"
   ]
  },
  {
   "cell_type": "code",
   "execution_count": 24,
   "id": "cc65d114-61ff-4fb0-806c-f5aea1d8ce30",
   "metadata": {},
   "outputs": [
    {
     "data": {
      "text/plain": [
       "2×4 Matrix{Int64}:\n",
       " 166  126  74  128\n",
       " 121   95  59   90"
      ]
     },
     "execution_count": 24,
     "metadata": {},
     "output_type": "execute_result"
    }
   ],
   "source": [
    "a=rand(1:10,(2,3))\n",
    "b=rand(1:10,(3,4))\n",
    "a*b"
   ]
  },
  {
   "cell_type": "code",
   "execution_count": 25,
   "id": "adeca601-9378-47d3-ba2d-ea3637308a83",
   "metadata": {},
   "outputs": [
    {
     "data": {
      "text/plain": [
       "3×3 Matrix{Int64}:\n",
       " 1  0  0\n",
       " 0  1  0\n",
       " 0  0  1"
      ]
     },
     "execution_count": 25,
     "metadata": {},
     "output_type": "execute_result"
    }
   ],
   "source": [
    "Matrix{Int}(I,3,3)"
   ]
  },
  {
   "cell_type": "code",
   "execution_count": 26,
   "id": "14cfaf16-cb14-4d16-a157-c0696365081e",
   "metadata": {},
   "outputs": [
    {
     "data": {
      "text/plain": [
       "-17"
      ]
     },
     "execution_count": 26,
     "metadata": {},
     "output_type": "execute_result"
    }
   ],
   "source": [
    "dot(x,y)"
   ]
  },
  {
   "cell_type": "code",
   "execution_count": 27,
   "id": "ad0a7809-8d6a-4aa0-bbd3-68c4e7e78c96",
   "metadata": {},
   "outputs": [
    {
     "data": {
      "text/plain": [
       "-17"
      ]
     },
     "execution_count": 27,
     "metadata": {},
     "output_type": "execute_result"
    }
   ],
   "source": [
    "x'y"
   ]
  },
  {
   "cell_type": "code",
   "execution_count": 28,
   "id": "6179817e-5a70-4a89-8e69-392572ea38ed",
   "metadata": {},
   "outputs": [
    {
     "data": {
      "text/plain": [
       "3-element Vector{Float64}:\n",
       " 0.9660839601808051\n",
       " 2.296387657479849\n",
       " 0.43505222993012227"
      ]
     },
     "execution_count": 28,
     "metadata": {},
     "output_type": "execute_result"
    }
   ],
   "source": [
    "a=rand(3,3)\n",
    "x=fill(1.0,3)\n",
    "b=a*x"
   ]
  },
  {
   "cell_type": "code",
   "execution_count": 29,
   "id": "a9300bd5-2d5f-4441-be34-c8506d373413",
   "metadata": {},
   "outputs": [
    {
     "data": {
      "text/plain": [
       "3-element Vector{Float64}:\n",
       " 0.9999999999999992\n",
       " 1.0000000000000004\n",
       " 1.0000000000000002"
      ]
     },
     "execution_count": 29,
     "metadata": {},
     "output_type": "execute_result"
    }
   ],
   "source": [
    "a\\b"
   ]
  },
  {
   "cell_type": "code",
   "execution_count": 30,
   "id": "06c7e058-3eb6-49ad-b5af-2c1e8534b2ab",
   "metadata": {},
   "outputs": [
    {
     "data": {
      "text/plain": [
       "LU{Float64, Matrix{Float64}}\n",
       "L factor:\n",
       "3×3 Matrix{Float64}:\n",
       " 1.0         0.0       0.0\n",
       " 0.113423    1.0       0.0\n",
       " 0.0141559  -0.602373  1.0\n",
       "U factor:\n",
       "3×3 Matrix{Float64}:\n",
       " 0.706353   0.695527   0.894508\n",
       " 0.0       -0.0716548  0.246243\n",
       " 0.0        0.0        1.03874"
      ]
     },
     "execution_count": 30,
     "metadata": {},
     "output_type": "execute_result"
    }
   ],
   "source": [
    "alu=lu(a)"
   ]
  },
  {
   "cell_type": "code",
   "execution_count": 31,
   "id": "f2c1a463-0c74-4b16-af17-89cd60f024e3",
   "metadata": {},
   "outputs": [
    {
     "data": {
      "text/plain": [
       "3-element Vector{Int64}:\n",
       " 2\n",
       " 3\n",
       " 1"
      ]
     },
     "execution_count": 31,
     "metadata": {},
     "output_type": "execute_result"
    }
   ],
   "source": [
    "alu.p"
   ]
  },
  {
   "cell_type": "code",
   "execution_count": 32,
   "id": "01a6aa17-44ab-4fce-a8a8-14fb39b9b96e",
   "metadata": {},
   "outputs": [
    {
     "data": {
      "text/plain": [
       "3×3 Matrix{Float64}:\n",
       " 0.0  1.0  0.0\n",
       " 0.0  0.0  1.0\n",
       " 1.0  0.0  0.0"
      ]
     },
     "execution_count": 32,
     "metadata": {},
     "output_type": "execute_result"
    }
   ],
   "source": [
    "alu.P"
   ]
  },
  {
   "cell_type": "code",
   "execution_count": 33,
   "id": "9549f293-4a76-4a2e-a2e5-113889d8621e",
   "metadata": {},
   "outputs": [
    {
     "data": {
      "text/plain": [
       "3×3 Matrix{Float64}:\n",
       " 1.0         0.0       0.0\n",
       " 0.113423    1.0       0.0\n",
       " 0.0141559  -0.602373  1.0"
      ]
     },
     "execution_count": 33,
     "metadata": {},
     "output_type": "execute_result"
    }
   ],
   "source": [
    "alu.L"
   ]
  },
  {
   "cell_type": "code",
   "execution_count": 34,
   "id": "b3012672-902c-44bb-bd28-39581ea08938",
   "metadata": {},
   "outputs": [
    {
     "data": {
      "text/plain": [
       "3×3 Matrix{Float64}:\n",
       " 0.706353   0.695527   0.894508\n",
       " 0.0       -0.0716548  0.246243\n",
       " 0.0        0.0        1.03874"
      ]
     },
     "execution_count": 34,
     "metadata": {},
     "output_type": "execute_result"
    }
   ],
   "source": [
    "alu.U"
   ]
  },
  {
   "cell_type": "code",
   "execution_count": 35,
   "id": "894d9355-d154-4588-8ef8-4b2c32aeaa9e",
   "metadata": {},
   "outputs": [
    {
     "data": {
      "text/plain": [
       "3-element Vector{Float64}:\n",
       " 0.9999999999999992\n",
       " 1.0000000000000004\n",
       " 1.0000000000000002"
      ]
     },
     "execution_count": 35,
     "metadata": {},
     "output_type": "execute_result"
    }
   ],
   "source": [
    "a\\b"
   ]
  },
  {
   "cell_type": "code",
   "execution_count": 36,
   "id": "9855bed5-c205-430b-8e74-b8e975ed1330",
   "metadata": {},
   "outputs": [
    {
     "data": {
      "text/plain": [
       "3-element Vector{Float64}:\n",
       " 0.9999999999999992\n",
       " 1.0000000000000004\n",
       " 1.0000000000000002"
      ]
     },
     "execution_count": 36,
     "metadata": {},
     "output_type": "execute_result"
    }
   ],
   "source": [
    "alu\\b"
   ]
  },
  {
   "cell_type": "code",
   "execution_count": 37,
   "id": "8b5e0100-7225-4dbc-8ef1-de7c15b882c1",
   "metadata": {},
   "outputs": [
    {
     "data": {
      "text/plain": [
       "-0.05257453494420739"
      ]
     },
     "execution_count": 37,
     "metadata": {},
     "output_type": "execute_result"
    }
   ],
   "source": [
    "det(a)"
   ]
  },
  {
   "cell_type": "code",
   "execution_count": 38,
   "id": "c1ed9004-edad-4f55-a4ec-1102e9d7066f",
   "metadata": {},
   "outputs": [
    {
     "data": {
      "text/plain": [
       "-0.05257453494420739"
      ]
     },
     "execution_count": 38,
     "metadata": {},
     "output_type": "execute_result"
    }
   ],
   "source": [
    "det(alu)"
   ]
  },
  {
   "cell_type": "code",
   "execution_count": 39,
   "id": "dd3924e5-32ca-4aab-949b-d28a46509508",
   "metadata": {},
   "outputs": [
    {
     "data": {
      "text/plain": [
       "LinearAlgebra.QRCompactWY{Float64, Matrix{Float64}}\n",
       "Q factor:\n",
       "3×3 LinearAlgebra.QRCompactWYQ{Float64, Matrix{Float64}}:\n",
       " -0.0140644   0.519318    0.854465\n",
       " -0.993531    0.0890502  -0.0704754\n",
       " -0.112689   -0.849929    0.514706\n",
       "R factor:\n",
       "3×3 Matrix{Float64}:\n",
       " -0.710952  -0.692588   -0.940604\n",
       "  0.0        0.0833167   0.253119\n",
       "  0.0        0.0         0.88757"
      ]
     },
     "execution_count": 39,
     "metadata": {},
     "output_type": "execute_result"
    }
   ],
   "source": [
    "aqr=qr(a)"
   ]
  },
  {
   "cell_type": "code",
   "execution_count": 40,
   "id": "6903ce3e-c87d-4490-86d3-701f904a4199",
   "metadata": {},
   "outputs": [
    {
     "data": {
      "text/plain": [
       "3×3 LinearAlgebra.QRCompactWYQ{Float64, Matrix{Float64}}:\n",
       " -0.0140644   0.519318    0.854465\n",
       " -0.993531    0.0890502  -0.0704754\n",
       " -0.112689   -0.849929    0.514706"
      ]
     },
     "execution_count": 40,
     "metadata": {},
     "output_type": "execute_result"
    }
   ],
   "source": [
    "aqr.Q"
   ]
  },
  {
   "cell_type": "code",
   "execution_count": 41,
   "id": "55e7cb47-9288-4b4e-a842-b44aee46824f",
   "metadata": {},
   "outputs": [
    {
     "data": {
      "text/plain": [
       "3×3 Matrix{Float64}:\n",
       " -0.710952  -0.692588   -0.940604\n",
       "  0.0        0.0833167   0.253119\n",
       "  0.0        0.0         0.88757"
      ]
     },
     "execution_count": 41,
     "metadata": {},
     "output_type": "execute_result"
    }
   ],
   "source": [
    "aqr.R"
   ]
  },
  {
   "cell_type": "code",
   "execution_count": 42,
   "id": "a0d2c24e-6c13-4730-a894-bd5386b04d0e",
   "metadata": {},
   "outputs": [
    {
     "data": {
      "text/plain": [
       "3×3 Matrix{Float64}:\n",
       "  0.00999909  -0.0730369  -0.338272\n",
       " -0.369211    -0.352254   -1.2203\n",
       " -0.607484    -0.597664   -0.364714"
      ]
     },
     "execution_count": 42,
     "metadata": {},
     "output_type": "execute_result"
    }
   ],
   "source": [
    "aqr.Q'*aqr.R"
   ]
  },
  {
   "cell_type": "code",
   "execution_count": 43,
   "id": "cd656124-b5e4-4cab-a498-605082510a1b",
   "metadata": {},
   "outputs": [
    {
     "data": {
      "text/plain": [
       "3×3 Matrix{Float64}:\n",
       " 0.0199982  0.759362  0.983193\n",
       " 0.759362   1.39105   0.901742\n",
       " 0.983193   0.901742  0.695402"
      ]
     },
     "execution_count": 43,
     "metadata": {},
     "output_type": "execute_result"
    }
   ],
   "source": [
    "asym=a+a'"
   ]
  },
  {
   "cell_type": "code",
   "execution_count": 44,
   "id": "718af60c-1793-4533-95cb-94a7f711426c",
   "metadata": {},
   "outputs": [
    {
     "data": {
      "text/plain": [
       "Eigen{Float64, Float64, Matrix{Float64}, Vector{Float64}}\n",
       "values:\n",
       "3-element Vector{Float64}:\n",
       " -0.6881234482197165\n",
       "  0.22392954711208235\n",
       "  2.5706479163830305\n",
       "vectors:\n",
       "3×3 Matrix{Float64}:\n",
       " -0.833222    0.350454  -0.427695\n",
       "  0.0662272  -0.704675  -0.706433\n",
       "  0.548958    0.616941  -0.563941"
      ]
     },
     "execution_count": 44,
     "metadata": {},
     "output_type": "execute_result"
    }
   ],
   "source": [
    "asymeig=eigen(asym)"
   ]
  },
  {
   "cell_type": "code",
   "execution_count": 45,
   "id": "d64f3afb-f7b9-433f-8697-b836bed09d9e",
   "metadata": {},
   "outputs": [
    {
     "data": {
      "text/plain": [
       "3-element Vector{Float64}:\n",
       " -0.6881234482197165\n",
       "  0.22392954711208235\n",
       "  2.5706479163830305"
      ]
     },
     "execution_count": 45,
     "metadata": {},
     "output_type": "execute_result"
    }
   ],
   "source": [
    "asymeig.values"
   ]
  },
  {
   "cell_type": "code",
   "execution_count": 46,
   "id": "971678d9-75a6-4edd-9208-45254323cd17",
   "metadata": {},
   "outputs": [
    {
     "data": {
      "text/plain": [
       "3×3 Matrix{Float64}:\n",
       " -0.833222    0.350454  -0.427695\n",
       "  0.0662272  -0.704675  -0.706433\n",
       "  0.548958    0.616941  -0.563941"
      ]
     },
     "execution_count": 46,
     "metadata": {},
     "output_type": "execute_result"
    }
   ],
   "source": [
    "asymeig.vectors"
   ]
  },
  {
   "cell_type": "code",
   "execution_count": 47,
   "id": "82790da1-831b-4cb6-9a3d-7504498372e4",
   "metadata": {},
   "outputs": [
    {
     "data": {
      "text/plain": [
       "3×3 Matrix{Float64}:\n",
       "  1.0          3.9968e-15   -7.77156e-15\n",
       " -3.33067e-15  1.0           9.32587e-15\n",
       "  1.77636e-15  4.21885e-15   1.0"
      ]
     },
     "execution_count": 47,
     "metadata": {},
     "output_type": "execute_result"
    }
   ],
   "source": [
    "inv(asymeig)*asym"
   ]
  },
  {
   "cell_type": "code",
   "execution_count": 51,
   "id": "aa80f20d-d15e-46d5-ab1b-df21fd142f9a",
   "metadata": {},
   "outputs": [
    {
     "data": {
      "text/plain": [
       "true"
      ]
     },
     "execution_count": 51,
     "metadata": {},
     "output_type": "execute_result"
    }
   ],
   "source": [
    "n=1000\n",
    "a=randn(n,n)\n",
    "asym=a+a'\n",
    "issymmetric(asym)"
   ]
  },
  {
   "cell_type": "code",
   "execution_count": 53,
   "id": "7993a731-85bd-4551-b8a2-62c77b191e20",
   "metadata": {},
   "outputs": [
    {
     "data": {
      "text/plain": [
       "false"
      ]
     },
     "execution_count": 53,
     "metadata": {},
     "output_type": "execute_result"
    }
   ],
   "source": [
    "asym_noisy=copy(asym)\n",
    "asym_noisy[1,2]+=5eps()\n",
    "issymmetric(asym_noisy)"
   ]
  },
  {
   "cell_type": "code",
   "execution_count": 54,
   "id": "f781ae38-337c-44c8-87ed-7a7e7a7490e4",
   "metadata": {},
   "outputs": [
    {
     "data": {
      "text/plain": [
       "1000×1000 Symmetric{Float64, Matrix{Float64}}:\n",
       " -3.97621   -1.80498     1.83508    …  -2.40325      2.21321     0.13888\n",
       " -1.80498   -0.228763    1.75753       -2.98848     -0.401623   -0.765896\n",
       "  1.83508    1.75753    -1.62725        0.346819     1.43516     0.25021\n",
       "  0.679386   0.114696    0.800428      -0.638286     1.74288     1.76747\n",
       " -1.35989   -0.844844   -0.810548       0.468689     1.92526     0.25471\n",
       " -1.00175    1.37295     0.506201   …   1.82724      0.647835    0.369493\n",
       "  0.954013  -3.16234     0.209664      -0.00514881   0.844065   -0.980934\n",
       " -0.563676  -2.54702     2.81653       -1.21339     -0.201298    0.754921\n",
       " -0.484848  -2.79842     0.407308       1.42897      0.519411    1.15908\n",
       "  1.67603    0.465007   -0.240294      -0.706276     1.19829    -2.55156\n",
       "  1.52875   -1.43551    -1.71002    …   0.399593     0.186824    2.70931\n",
       "  1.42331   -0.252256    0.195681       0.0814219   -0.0126989   0.958681\n",
       "  1.84197   -0.802904   -0.0715091     -1.12492     -0.400593   -1.48521\n",
       "  ⋮                                 ⋱                           \n",
       " -0.662984   1.0345     -0.995905      -0.123232    -0.765248    1.41215\n",
       " -0.207006   0.672649    0.488251      -0.638766    -2.11463    -0.327169\n",
       "  0.726153   0.908247    1.00727    …  -0.115699     2.1987      1.76557\n",
       "  1.69841   -0.624295    0.574466       1.64281      0.300787    2.58826\n",
       "  1.60521   -0.717714   -0.748507      -1.17085     -1.48511    -1.27399\n",
       "  1.17981    0.455067   -1.56742        1.39881      1.55009    -0.206323\n",
       "  0.930663   1.79101    -1.38017       -0.859332    -1.12749    -3.31913\n",
       " -0.221074   0.150147   -0.23395    …  -0.587765     0.307081   -2.70965\n",
       "  1.24605   -0.0185936  -0.300186       1.21877     -0.304299   -1.18623\n",
       " -2.40325   -2.98848     0.346819      -1.885       -1.12372    -0.552378\n",
       "  2.21321   -0.401623    1.43516       -1.12372     -0.761376    0.115285\n",
       "  0.13888   -0.765896    0.25021       -0.552378     0.115285   -2.15356"
      ]
     },
     "execution_count": 54,
     "metadata": {},
     "output_type": "execute_result"
    }
   ],
   "source": [
    "asym_explicit=Symmetric(asym_noisy)"
   ]
  },
  {
   "cell_type": "code",
   "execution_count": 55,
   "id": "faeca335-a8b5-48e8-984b-38e798d50b7f",
   "metadata": {},
   "outputs": [
    {
     "name": "stderr",
     "output_type": "stream",
     "text": [
      "\u001b[32m\u001b[1m   Resolving\u001b[22m\u001b[39m package versions...\n",
      "\u001b[32m\u001b[1m   Installed\u001b[22m\u001b[39m BenchmarkTools ─ v1.2.0\n",
      "\u001b[32m\u001b[1m    Updating\u001b[22m\u001b[39m `C:\\Users\\Xiaomi\\.julia\\environments\\v1.6\\Project.toml`\n",
      " \u001b[90m [6e4b80f9] \u001b[39m\u001b[92m+ BenchmarkTools v1.2.0\u001b[39m\n",
      "\u001b[32m\u001b[1m    Updating\u001b[22m\u001b[39m `C:\\Users\\Xiaomi\\.julia\\environments\\v1.6\\Manifest.toml`\n",
      " \u001b[90m [6e4b80f9] \u001b[39m\u001b[92m+ BenchmarkTools v1.2.0\u001b[39m\n",
      " \u001b[90m [9abbd945] \u001b[39m\u001b[92m+ Profile\u001b[39m\n",
      "\u001b[32m\u001b[1mPrecompiling\u001b[22m\u001b[39m project...\n",
      "\u001b[32m  ✓ \u001b[39mBenchmarkTools\n",
      "  1 dependency successfully precompiled in 2 seconds (21 already precompiled)\n"
     ]
    }
   ],
   "source": [
    "Pkg.add(\"BenchmarkTools\")"
   ]
  },
  {
   "cell_type": "code",
   "execution_count": 56,
   "id": "2caef4bb-087c-419b-9c4e-0c7210dff5c8",
   "metadata": {},
   "outputs": [
    {
     "name": "stdout",
     "output_type": "stream",
     "text": [
      "  335.109 ms (11 allocations: 7.99 MiB)\n"
     ]
    }
   ],
   "source": [
    "using BenchmarkTools\n",
    "@btime eigvals(asym);"
   ]
  },
  {
   "cell_type": "code",
   "execution_count": 57,
   "id": "195aebf2-2f54-4b98-b20b-58f04fe513d5",
   "metadata": {},
   "outputs": [
    {
     "name": "stdout",
     "output_type": "stream",
     "text": [
      "  1.405 s (13 allocations: 7.92 MiB)\n"
     ]
    }
   ],
   "source": [
    "@btime eigvals(asym_noisy);"
   ]
  },
  {
   "cell_type": "code",
   "execution_count": 58,
   "id": "f11f4428-c8e3-4fad-9b4b-adae325ce500",
   "metadata": {},
   "outputs": [
    {
     "name": "stdout",
     "output_type": "stream",
     "text": [
      "  332.292 ms (11 allocations: 7.99 MiB)\n"
     ]
    }
   ],
   "source": [
    "@btime eigvals(asym_explicit);"
   ]
  },
  {
   "cell_type": "code",
   "execution_count": 59,
   "id": "519846d0-e3bc-4cd0-bb41-409bbebc2877",
   "metadata": {},
   "outputs": [
    {
     "data": {
      "text/plain": [
       "1000000×1000000 SymTridiagonal{Float64, Vector{Float64}}:\n",
       " -0.699461  -2.13919     ⋅        …    ⋅           ⋅           ⋅ \n",
       " -2.13919   -0.62774   -0.287085       ⋅           ⋅           ⋅ \n",
       "   ⋅        -0.287085   0.149479       ⋅           ⋅           ⋅ \n",
       "   ⋅          ⋅         0.720997       ⋅           ⋅           ⋅ \n",
       "   ⋅          ⋅          ⋅             ⋅           ⋅           ⋅ \n",
       "   ⋅          ⋅          ⋅        …    ⋅           ⋅           ⋅ \n",
       "   ⋅          ⋅          ⋅             ⋅           ⋅           ⋅ \n",
       "   ⋅          ⋅          ⋅             ⋅           ⋅           ⋅ \n",
       "   ⋅          ⋅          ⋅             ⋅           ⋅           ⋅ \n",
       "   ⋅          ⋅          ⋅             ⋅           ⋅           ⋅ \n",
       "   ⋅          ⋅          ⋅        …    ⋅           ⋅           ⋅ \n",
       "   ⋅          ⋅          ⋅             ⋅           ⋅           ⋅ \n",
       "   ⋅          ⋅          ⋅             ⋅           ⋅           ⋅ \n",
       "  ⋮                               ⋱                          \n",
       "   ⋅          ⋅          ⋅             ⋅           ⋅           ⋅ \n",
       "   ⋅          ⋅          ⋅             ⋅           ⋅           ⋅ \n",
       "   ⋅          ⋅          ⋅        …    ⋅           ⋅           ⋅ \n",
       "   ⋅          ⋅          ⋅             ⋅           ⋅           ⋅ \n",
       "   ⋅          ⋅          ⋅             ⋅           ⋅           ⋅ \n",
       "   ⋅          ⋅          ⋅             ⋅           ⋅           ⋅ \n",
       "   ⋅          ⋅          ⋅             ⋅           ⋅           ⋅ \n",
       "   ⋅          ⋅          ⋅        …    ⋅           ⋅           ⋅ \n",
       "   ⋅          ⋅          ⋅            1.32331      ⋅           ⋅ \n",
       "   ⋅          ⋅          ⋅            0.695697   -0.0614057    ⋅ \n",
       "   ⋅          ⋅          ⋅           -0.0614057   0.651926    1.19718\n",
       "   ⋅          ⋅          ⋅             ⋅          1.19718    -0.29669"
      ]
     },
     "execution_count": 59,
     "metadata": {},
     "output_type": "execute_result"
    }
   ],
   "source": [
    "n = 1000000;\n",
    "A = SymTridiagonal(randn(n), randn(n-1))"
   ]
  },
  {
   "cell_type": "code",
   "execution_count": 60,
   "id": "92e0cb8b-478d-4696-b43b-ee1c8092246c",
   "metadata": {},
   "outputs": [
    {
     "name": "stdout",
     "output_type": "stream",
     "text": [
      "  552.836 ms (17 allocations: 183.11 MiB)\n"
     ]
    },
    {
     "data": {
      "text/plain": [
       "6.673829087889594"
      ]
     },
     "execution_count": 60,
     "metadata": {},
     "output_type": "execute_result"
    }
   ],
   "source": [
    "@btime eigmax(A)"
   ]
  },
  {
   "cell_type": "code",
   "execution_count": 61,
   "id": "a44d2954-aa0f-40ac-8e47-ec7bc2ee0971",
   "metadata": {},
   "outputs": [
    {
     "ename": "LoadError",
     "evalue": "OutOfMemoryError()",
     "output_type": "error",
     "traceback": [
      "OutOfMemoryError()",
      "",
      "Stacktrace:",
      " [1] Array",
      "   @ .\\boot.jl:450 [inlined]",
      " [2] Array",
      "   @ .\\boot.jl:458 [inlined]",
      " [3] zeros",
      "   @ .\\array.jl:503 [inlined]",
      " [4] zeros",
      "   @ .\\array.jl:499 [inlined]",
      " [5] Matrix{Float64}(M::SymTridiagonal{Float64, Vector{Float64}})",
      "   @ LinearAlgebra C:\\buildbot\\worker\\package_win64\\build\\usr\\share\\julia\\stdlib\\v1.6\\LinearAlgebra\\src\\tridiag.jl:127",
      " [6] (Matrix{T} where T)(M::SymTridiagonal{Float64, Vector{Float64}})",
      "   @ LinearAlgebra C:\\buildbot\\worker\\package_win64\\build\\usr\\share\\julia\\stdlib\\v1.6\\LinearAlgebra\\src\\tridiag.jl:141",
      " [7] top-level scope",
      "   @ In[61]:1",
      " [8] eval",
      "   @ .\\boot.jl:360 [inlined]",
      " [9] include_string(mapexpr::typeof(REPL.softscope), mod::Module, code::String, filename::String)",
      "   @ Base .\\loading.jl:1116"
     ]
    }
   ],
   "source": [
    "B=Matrix(A)"
   ]
  },
  {
   "cell_type": "code",
   "execution_count": 62,
   "id": "e1e5fb78-f4a2-486e-b988-23cae67fe8d1",
   "metadata": {},
   "outputs": [
    {
     "data": {
      "text/plain": [
       "3×3 Matrix{Rational{BigInt}}:\n",
       " 3//5  3//5  1//2\n",
       " 2//5  1//1  3//10\n",
       " 3//5  3//5  2//5"
      ]
     },
     "execution_count": 62,
     "metadata": {},
     "output_type": "execute_result"
    }
   ],
   "source": [
    "Arational = Matrix{Rational{BigInt}}(rand(1:10, 3, 3))/10"
   ]
  },
  {
   "cell_type": "code",
   "execution_count": 63,
   "id": "ebc43cd3-b501-4574-991b-aa7c4a53b56c",
   "metadata": {},
   "outputs": [
    {
     "data": {
      "text/plain": [
       "3-element Vector{Rational{BigInt}}:\n",
       " 17//10\n",
       " 17//10\n",
       "  8//5"
      ]
     },
     "execution_count": 63,
     "metadata": {},
     "output_type": "execute_result"
    }
   ],
   "source": [
    "x=fill(1,3)\n",
    "b=Arational*x"
   ]
  },
  {
   "cell_type": "code",
   "execution_count": 64,
   "id": "49029cf3-b73b-4731-976e-d71494efe018",
   "metadata": {},
   "outputs": [
    {
     "data": {
      "text/plain": [
       "3-element Vector{Rational{BigInt}}:\n",
       " 1//1\n",
       " 1//1\n",
       " 1//1"
      ]
     },
     "execution_count": 64,
     "metadata": {},
     "output_type": "execute_result"
    }
   ],
   "source": [
    "Arational\\b"
   ]
  },
  {
   "cell_type": "code",
   "execution_count": 65,
   "id": "e73db69c-83c9-4b4e-989c-e66e1f9358e3",
   "metadata": {},
   "outputs": [
    {
     "data": {
      "text/plain": [
       "LU{Rational{BigInt}, Matrix{Rational{BigInt}}}\n",
       "L factor:\n",
       "3×3 Matrix{Rational{BigInt}}:\n",
       " 1//1  0//1  0//1\n",
       " 2//3  1//1  0//1\n",
       " 1//1  0//1  1//1\n",
       "U factor:\n",
       "3×3 Matrix{Rational{BigInt}}:\n",
       " 3//5  3//5   1//2\n",
       " 0//1  3//5  -1//30\n",
       " 0//1  0//1  -1//10"
      ]
     },
     "execution_count": 65,
     "metadata": {},
     "output_type": "execute_result"
    }
   ],
   "source": [
    "lu(Arational)"
   ]
  },
  {
   "cell_type": "code",
   "execution_count": 66,
   "id": "9a1b27fd-566f-42f4-9661-0e47eab5e307",
   "metadata": {},
   "outputs": [
    {
     "data": {
      "text/plain": [
       "14"
      ]
     },
     "execution_count": 66,
     "metadata": {},
     "output_type": "execute_result"
    }
   ],
   "source": [
    "v=[1; 2; 3]\n",
    "dot_v=v'v"
   ]
  },
  {
   "cell_type": "code",
   "execution_count": 68,
   "id": "3a0f8f60-1bdc-4d0e-a2f7-87d91310ef2c",
   "metadata": {},
   "outputs": [
    {
     "data": {
      "text/plain": [
       "3×3 Matrix{Int64}:\n",
       " 1  2  3\n",
       " 2  4  6\n",
       " 3  6  9"
      ]
     },
     "execution_count": 68,
     "metadata": {},
     "output_type": "execute_result"
    }
   ],
   "source": [
    "outer_v=v*v'"
   ]
  },
  {
   "cell_type": "code",
   "execution_count": 75,
   "id": "9b30a02e-6d32-4ecf-b0cf-1cabf150c137",
   "metadata": {},
   "outputs": [
    {
     "data": {
      "text/plain": [
       "2-element Vector{Float64}:\n",
       "  2.5\n",
       " -0.5"
      ]
     },
     "execution_count": 75,
     "metadata": {},
     "output_type": "execute_result"
    }
   ],
   "source": [
    "a=[1 1; 1 -1]\n",
    "b=[2; 3]\n",
    "a\\b"
   ]
  },
  {
   "cell_type": "code",
   "execution_count": 78,
   "id": "f6a680dd-b4f4-4eff-b7ef-705feb16cf1f",
   "metadata": {},
   "outputs": [
    {
     "ename": "LoadError",
     "evalue": "SingularException(2)",
     "output_type": "error",
     "traceback": [
      "SingularException(2)",
      "",
      "Stacktrace:",
      " [1] checknonsingular",
      "   @ C:\\buildbot\\worker\\package_win64\\build\\usr\\share\\julia\\stdlib\\v1.6\\LinearAlgebra\\src\\factorization.jl:19 [inlined]",
      " [2] checknonsingular",
      "   @ C:\\buildbot\\worker\\package_win64\\build\\usr\\share\\julia\\stdlib\\v1.6\\LinearAlgebra\\src\\factorization.jl:21 [inlined]",
      " [3] #lu!#136",
      "   @ C:\\buildbot\\worker\\package_win64\\build\\usr\\share\\julia\\stdlib\\v1.6\\LinearAlgebra\\src\\lu.jl:85 [inlined]",
      " [4] #lu#140",
      "   @ C:\\buildbot\\worker\\package_win64\\build\\usr\\share\\julia\\stdlib\\v1.6\\LinearAlgebra\\src\\lu.jl:273 [inlined]",
      " [5] lu (repeats 2 times)",
      "   @ C:\\buildbot\\worker\\package_win64\\build\\usr\\share\\julia\\stdlib\\v1.6\\LinearAlgebra\\src\\lu.jl:272 [inlined]",
      " [6] \\(A::Matrix{Int64}, B::Vector{Int64})",
      "   @ LinearAlgebra C:\\buildbot\\worker\\package_win64\\build\\usr\\share\\julia\\stdlib\\v1.6\\LinearAlgebra\\src\\generic.jl:1136",
      " [7] top-level scope",
      "   @ In[78]:3",
      " [8] eval",
      "   @ .\\boot.jl:360 [inlined]",
      " [9] include_string(mapexpr::typeof(REPL.softscope), mod::Module, code::String, filename::String)",
      "   @ Base .\\loading.jl:1116"
     ]
    }
   ],
   "source": [
    "a=[1 1; 2 2]\n",
    "b=[2; 4]\n",
    "a\\b"
   ]
  },
  {
   "cell_type": "code",
   "execution_count": 79,
   "id": "04141d4f-392d-4fa2-93c8-8fd01b024127",
   "metadata": {},
   "outputs": [
    {
     "ename": "LoadError",
     "evalue": "SingularException(2)",
     "output_type": "error",
     "traceback": [
      "SingularException(2)",
      "",
      "Stacktrace:",
      " [1] checknonsingular",
      "   @ C:\\buildbot\\worker\\package_win64\\build\\usr\\share\\julia\\stdlib\\v1.6\\LinearAlgebra\\src\\factorization.jl:19 [inlined]",
      " [2] checknonsingular",
      "   @ C:\\buildbot\\worker\\package_win64\\build\\usr\\share\\julia\\stdlib\\v1.6\\LinearAlgebra\\src\\factorization.jl:21 [inlined]",
      " [3] #lu!#136",
      "   @ C:\\buildbot\\worker\\package_win64\\build\\usr\\share\\julia\\stdlib\\v1.6\\LinearAlgebra\\src\\lu.jl:85 [inlined]",
      " [4] #lu#140",
      "   @ C:\\buildbot\\worker\\package_win64\\build\\usr\\share\\julia\\stdlib\\v1.6\\LinearAlgebra\\src\\lu.jl:273 [inlined]",
      " [5] lu (repeats 2 times)",
      "   @ C:\\buildbot\\worker\\package_win64\\build\\usr\\share\\julia\\stdlib\\v1.6\\LinearAlgebra\\src\\lu.jl:272 [inlined]",
      " [6] top-level scope",
      "   @ In[79]:3",
      " [7] eval",
      "   @ .\\boot.jl:360 [inlined]",
      " [8] include_string(mapexpr::typeof(REPL.softscope), mod::Module, code::String, filename::String)",
      "   @ Base .\\loading.jl:1116"
     ]
    }
   ],
   "source": [
    "a=[1 1; 2 2]\n",
    "b=[2; 5]\n",
    "lu(a)\\b"
   ]
  },
  {
   "cell_type": "code",
   "execution_count": 80,
   "id": "d6174bb2-a383-419b-8cad-ef06e9e2bb36",
   "metadata": {},
   "outputs": [
    {
     "data": {
      "text/plain": [
       "2-element Vector{Float64}:\n",
       " 0.4999999999999999\n",
       " 0.5"
      ]
     },
     "execution_count": 80,
     "metadata": {},
     "output_type": "execute_result"
    }
   ],
   "source": [
    "a=[1 1; 2 2; 3 3]\n",
    "b=[1; 2; 3]\n",
    "a\\b"
   ]
  },
  {
   "cell_type": "code",
   "execution_count": 82,
   "id": "84992f9f-34a8-4407-89fd-f269c29dcd3d",
   "metadata": {},
   "outputs": [
    {
     "data": {
      "text/plain": [
       "2-element Vector{Float64}:\n",
       "  1.1538461538461537\n",
       " -0.3846153846153849"
      ]
     },
     "execution_count": 82,
     "metadata": {},
     "output_type": "execute_result"
    }
   ],
   "source": [
    "a=[1 1; 2 1; 2 -1]\n",
    "b=[2; 1; 3]\n",
    "a\\b"
   ]
  },
  {
   "cell_type": "code",
   "execution_count": 83,
   "id": "1a64c527-df9e-42c9-8a02-1c512644e73b",
   "metadata": {},
   "outputs": [
    {
     "data": {
      "text/plain": [
       "2-element Vector{Float64}:\n",
       " 0.9999999999999992\n",
       " 1.544818922025198e-15"
      ]
     },
     "execution_count": 83,
     "metadata": {},
     "output_type": "execute_result"
    }
   ],
   "source": [
    "a=[1 1; 2 1; 3 2]\n",
    "b=[1; 2; 3]\n",
    "a\\b"
   ]
  },
  {
   "cell_type": "code",
   "execution_count": 84,
   "id": "274e38d3-4091-4621-a36b-41c5b55b6088",
   "metadata": {},
   "outputs": [
    {
     "data": {
      "text/plain": [
       "3-element Vector{Float64}:\n",
       "  2.2142857142857144\n",
       "  0.35714285714285704\n",
       " -0.5714285714285712"
      ]
     },
     "execution_count": 84,
     "metadata": {},
     "output_type": "execute_result"
    }
   ],
   "source": [
    "a=[1 1 1; 1 -1 -2]\n",
    "b=[2; 3]\n",
    "a\\b"
   ]
  },
  {
   "cell_type": "code",
   "execution_count": 85,
   "id": "d8948a9b-8ccb-4ef0-bd96-9889dc8a3205",
   "metadata": {},
   "outputs": [
    {
     "data": {
      "text/plain": [
       "3-element Vector{Float64}:\n",
       " -0.5\n",
       "  2.4\n",
       "  0.09999999999999998"
      ]
     },
     "execution_count": 85,
     "metadata": {},
     "output_type": "execute_result"
    }
   ],
   "source": [
    "a=[1 1 1; 1 2 -3; 3 1 1]\n",
    "b=[2; 4; 1]\n",
    "a\\b"
   ]
  },
  {
   "cell_type": "code",
   "execution_count": 86,
   "id": "3c3ab286-9b41-4299-84ae-5a5a45af63e7",
   "metadata": {},
   "outputs": [
    {
     "ename": "LoadError",
     "evalue": "SingularException(2)",
     "output_type": "error",
     "traceback": [
      "SingularException(2)",
      "",
      "Stacktrace:",
      " [1] checknonsingular",
      "   @ C:\\buildbot\\worker\\package_win64\\build\\usr\\share\\julia\\stdlib\\v1.6\\LinearAlgebra\\src\\factorization.jl:19 [inlined]",
      " [2] checknonsingular",
      "   @ C:\\buildbot\\worker\\package_win64\\build\\usr\\share\\julia\\stdlib\\v1.6\\LinearAlgebra\\src\\factorization.jl:21 [inlined]",
      " [3] #lu!#136",
      "   @ C:\\buildbot\\worker\\package_win64\\build\\usr\\share\\julia\\stdlib\\v1.6\\LinearAlgebra\\src\\lu.jl:85 [inlined]",
      " [4] #lu#140",
      "   @ C:\\buildbot\\worker\\package_win64\\build\\usr\\share\\julia\\stdlib\\v1.6\\LinearAlgebra\\src\\lu.jl:273 [inlined]",
      " [5] lu (repeats 2 times)",
      "   @ C:\\buildbot\\worker\\package_win64\\build\\usr\\share\\julia\\stdlib\\v1.6\\LinearAlgebra\\src\\lu.jl:272 [inlined]",
      " [6] \\(A::Matrix{Int64}, B::Vector{Int64})",
      "   @ LinearAlgebra C:\\buildbot\\worker\\package_win64\\build\\usr\\share\\julia\\stdlib\\v1.6\\LinearAlgebra\\src\\generic.jl:1136",
      " [7] top-level scope",
      "   @ In[86]:3",
      " [8] eval",
      "   @ .\\boot.jl:360 [inlined]",
      " [9] include_string(mapexpr::typeof(REPL.softscope), mod::Module, code::String, filename::String)",
      "   @ Base .\\loading.jl:1116"
     ]
    }
   ],
   "source": [
    "a=[1 1 1; 1 1 2; 2 2 3]\n",
    "b=[1; 0; 1]\n",
    "a\\b"
   ]
  },
  {
   "cell_type": "code",
   "execution_count": 87,
   "id": "8d0ea99a-7f79-47ad-b45b-33d4b083cec6",
   "metadata": {},
   "outputs": [
    {
     "ename": "LoadError",
     "evalue": "SingularException(2)",
     "output_type": "error",
     "traceback": [
      "SingularException(2)",
      "",
      "Stacktrace:",
      " [1] checknonsingular",
      "   @ C:\\buildbot\\worker\\package_win64\\build\\usr\\share\\julia\\stdlib\\v1.6\\LinearAlgebra\\src\\factorization.jl:19 [inlined]",
      " [2] checknonsingular",
      "   @ C:\\buildbot\\worker\\package_win64\\build\\usr\\share\\julia\\stdlib\\v1.6\\LinearAlgebra\\src\\factorization.jl:21 [inlined]",
      " [3] #lu!#136",
      "   @ C:\\buildbot\\worker\\package_win64\\build\\usr\\share\\julia\\stdlib\\v1.6\\LinearAlgebra\\src\\lu.jl:85 [inlined]",
      " [4] #lu#140",
      "   @ C:\\buildbot\\worker\\package_win64\\build\\usr\\share\\julia\\stdlib\\v1.6\\LinearAlgebra\\src\\lu.jl:273 [inlined]",
      " [5] lu (repeats 2 times)",
      "   @ C:\\buildbot\\worker\\package_win64\\build\\usr\\share\\julia\\stdlib\\v1.6\\LinearAlgebra\\src\\lu.jl:272 [inlined]",
      " [6] \\(A::Matrix{Int64}, B::Vector{Int64})",
      "   @ LinearAlgebra C:\\buildbot\\worker\\package_win64\\build\\usr\\share\\julia\\stdlib\\v1.6\\LinearAlgebra\\src\\generic.jl:1136",
      " [7] top-level scope",
      "   @ In[87]:3",
      " [8] eval",
      "   @ .\\boot.jl:360 [inlined]",
      " [9] include_string(mapexpr::typeof(REPL.softscope), mod::Module, code::String, filename::String)",
      "   @ Base .\\loading.jl:1116"
     ]
    }
   ],
   "source": [
    "a=[1 1 1; 1 1 2; 2 2 3]\n",
    "b=[1; 0; 0]\n",
    "a\\b"
   ]
  },
  {
   "cell_type": "code",
   "execution_count": 128,
   "id": "adb977e5-b6e1-40b0-8199-24e1bf5e27d8",
   "metadata": {},
   "outputs": [
    {
     "data": {
      "text/plain": [
       "2×2 Matrix{Float64}:\n",
       " -1.0  0.0\n",
       "  0.0  3.0"
      ]
     },
     "execution_count": 128,
     "metadata": {},
     "output_type": "execute_result"
    }
   ],
   "source": [
    "a=[1 -2; -2 1]\n",
    "Matrix(Diagonal(eigen(a).values))"
   ]
  },
  {
   "cell_type": "code",
   "execution_count": 129,
   "id": "5f5b94df-bc25-445c-8a35-048230563c37",
   "metadata": {},
   "outputs": [
    {
     "data": {
      "text/plain": [
       "2×2 Matrix{Float64}:\n",
       " -0.236068  0.0\n",
       "  0.0       4.23607"
      ]
     },
     "execution_count": 129,
     "metadata": {},
     "output_type": "execute_result"
    }
   ],
   "source": [
    "a=[1 -2; -2 3]\n",
    "Matrix(Diagonal(eigen(a).values))"
   ]
  },
  {
   "cell_type": "code",
   "execution_count": 130,
   "id": "1a6e8f67-bd9b-49b3-8f51-baba103d8351",
   "metadata": {},
   "outputs": [
    {
     "data": {
      "text/plain": [
       "3×3 Matrix{Float64}:\n",
       " -2.14134  0.0       0.0\n",
       "  0.0      0.515138  0.0\n",
       "  0.0      0.0       3.6262"
      ]
     },
     "execution_count": 130,
     "metadata": {},
     "output_type": "execute_result"
    }
   ],
   "source": [
    "a=[1 -2 0; -2 1 2; 0 2 0]\n",
    "Matrix(Diagonal(eigen(a).values))"
   ]
  },
  {
   "cell_type": "code",
   "execution_count": 131,
   "id": "41c90060-186d-44ed-906a-183a4fb75dbe",
   "metadata": {},
   "outputs": [
    {
     "data": {
      "text/plain": [
       "2×2 Matrix{Int64}:\n",
       "  29525  -29524\n",
       " -29524   29525"
      ]
     },
     "execution_count": 131,
     "metadata": {},
     "output_type": "execute_result"
    }
   ],
   "source": [
    "a=[1 -2; -2 1]\n",
    "a^10"
   ]
  },
  {
   "cell_type": "code",
   "execution_count": 133,
   "id": "b69c42d0-01dd-4001-89f8-6599cbf7f38e",
   "metadata": {},
   "outputs": [
    {
     "data": {
      "text/plain": [
       "2×2 Symmetric{Float64, Matrix{Float64}}:\n",
       "  2.1889   -0.45685\n",
       " -0.45685   2.1889"
      ]
     },
     "execution_count": 133,
     "metadata": {},
     "output_type": "execute_result"
    }
   ],
   "source": [
    "a=[5 -2; -2 5]\n",
    "a^(1/2)"
   ]
  },
  {
   "cell_type": "code",
   "execution_count": 134,
   "id": "c3165f8e-5a78-483b-adba-b237c8c7f39d",
   "metadata": {},
   "outputs": [
    {
     "data": {
      "text/plain": [
       "2×2 Symmetric{ComplexF64, Matrix{ComplexF64}}:\n",
       "  0.971125+0.433013im  -0.471125+0.433013im\n",
       " -0.471125+0.433013im   0.971125+0.433013im"
      ]
     },
     "execution_count": 134,
     "metadata": {},
     "output_type": "execute_result"
    }
   ],
   "source": [
    "a=[1 -2; -2 1]\n",
    "a^(1/3)"
   ]
  },
  {
   "cell_type": "code",
   "execution_count": 135,
   "id": "2d030347-d6ac-484c-8fab-571ee9613d79",
   "metadata": {},
   "outputs": [
    {
     "data": {
      "text/plain": [
       "2×2 Symmetric{ComplexF64, Matrix{ComplexF64}}:\n",
       " 0.568864+0.351578im  0.920442-0.217287im\n",
       " 0.920442-0.217287im   1.48931+0.134291im"
      ]
     },
     "execution_count": 135,
     "metadata": {},
     "output_type": "execute_result"
    }
   ],
   "source": [
    "a=[1 2; 2 3]\n",
    "a^(1/2)"
   ]
  },
  {
   "cell_type": "code",
   "execution_count": 140,
   "id": "b343b396-952b-4ce1-a533-2077d2517692",
   "metadata": {},
   "outputs": [
    {
     "name": "stdout",
     "output_type": "stream",
     "text": [
      "[-128.49322764802145, -55.887784553056875, 42.7521672793189, 87.16111477514521, 542.4677301466143]\n"
     ]
    },
    {
     "data": {
      "text/plain": [
       "5×5 Matrix{Float64}:\n",
       " -128.493    0.0      0.0      0.0       0.0\n",
       "    0.0    -55.8878   0.0      0.0       0.0\n",
       "    0.0      0.0     42.7522   0.0       0.0\n",
       "    0.0      0.0      0.0     87.1611    0.0\n",
       "    0.0      0.0      0.0      0.0     542.468"
      ]
     },
     "execution_count": 140,
     "metadata": {},
     "output_type": "execute_result"
    }
   ],
   "source": [
    "a=[140 97 74 168 131;\n",
    "97 106 89 131 36;\n",
    "74 89 152 144 71;\n",
    "168 131 144 54 142;\n",
    "131 36 71 142 36]\n",
    "println(eigvals(a))\n",
    "Matrix(Diagonal(eigvals(a)))"
   ]
  },
  {
   "cell_type": "code",
   "execution_count": 141,
   "id": "bd4d62e6-76c9-4f6f-8373-325adb4d6d47",
   "metadata": {},
   "outputs": [
    {
     "data": {
      "text/plain": [
       "5×5 Matrix{Float64}:\n",
       " 1.0        0.0        0.0       0.0       0.0\n",
       " 0.779762   1.0        0.0       0.0       0.0\n",
       " 0.440476  -0.47314    1.0       0.0       0.0\n",
       " 0.833333   0.183929  -0.556312  1.0       0.0\n",
       " 0.577381  -0.459012  -0.189658  0.897068  1.0"
      ]
     },
     "execution_count": 141,
     "metadata": {},
     "output_type": "execute_result"
    }
   ],
   "source": [
    "lu(a).L"
   ]
  },
  {
   "cell_type": "code",
   "execution_count": 144,
   "id": "bba9e013-5abd-4e82-8398-9b0dedc48281",
   "metadata": {},
   "outputs": [
    {
     "name": "stdout",
     "output_type": "stream",
     "text": [
      "  3.538 μs (10 allocations: 2.80 KiB)\n",
      "[-128.49322764802145, -55.887784553056875, 42.7521672793189, 87.16111477514521, 542.4677301466143]\n",
      "  4.229 μs (12 allocations: 3.09 KiB)\n",
      "[-128.49322764802145 0.0 0.0 0.0 0.0; 0.0 -55.887784553056875 0.0 0.0 0.0; 0.0 0.0 42.7521672793189 0.0 0.0; 0.0 0.0 0.0 87.16111477514521 0.0; 0.0 0.0 0.0 0.0 542.4677301466143]\n",
      "  952.941 ns (4 allocations: 736 bytes)\n",
      "[1.0 0.0 0.0 0.0 0.0; 0.7797619047619048 1.0 0.0 0.0 0.0; 0.44047619047619047 -0.47313956627373355 1.0 0.0 0.0; 0.8333333333333333 0.18392873211554023 -0.5563115375892516 1.0 0.0; 0.5773809523809523 -0.4590119679654459 -0.1896576444121198 0.897067538972598 1.0]\n"
     ]
    }
   ],
   "source": [
    "println(@btime eigvals(a))\n",
    "println(@btime Matrix(Diagonal(eigvals(a))))\n",
    "println(@btime lu(a).L)"
   ]
  },
  {
   "cell_type": "code",
   "execution_count": 157,
   "id": "74bcc062-d9b4-41ac-950a-dbcbf114a94d",
   "metadata": {},
   "outputs": [
    {
     "data": {
      "text/plain": [
       "1×2 transpose(::Vector{Float64}) with eltype Float64:\n",
       " -1.47733e-6  -3.14816e-6"
      ]
     },
     "execution_count": 157,
     "metadata": {},
     "output_type": "execute_result"
    }
   ],
   "source": [
    "a=[1 2; 3 4]\n",
    "y=rand(0:1000000, 2)\n",
    "e=Matrix{Int}(I,2,2)\n",
    "y\\(e-a)"
   ]
  },
  {
   "cell_type": "code",
   "execution_count": 158,
   "id": "183e8d60-31a7-47d7-870b-d6103f307f11",
   "metadata": {},
   "outputs": [
    {
     "data": {
      "text/plain": [
       "1×2 transpose(::Vector{Float64}) with eltype Float64:\n",
       " -5.63125e-7  -1.52842e-6"
      ]
     },
     "execution_count": 158,
     "metadata": {},
     "output_type": "execute_result"
    }
   ],
   "source": [
    "a=[1/2 1; 3/2 2]\n",
    "y=rand(0:1000000, 2)\n",
    "e=Matrix{Int}(I,2,2)\n",
    "y\\(e-a)"
   ]
  },
  {
   "cell_type": "code",
   "execution_count": 159,
   "id": "9292c117-52ea-4258-ba8c-2f03d40d4285",
   "metadata": {},
   "outputs": [
    {
     "data": {
      "text/plain": [
       "1×2 transpose(::Vector{Float64}) with eltype Float64:\n",
       " 2.11053e-7  6.89444e-7"
      ]
     },
     "execution_count": 159,
     "metadata": {},
     "output_type": "execute_result"
    }
   ],
   "source": [
    "a=[1/10 2/10; 3/10 4/10]\n",
    "y=rand(0:1000000, 2)\n",
    "e=Matrix{Int}(I,2,2)\n",
    "y\\(e-a)"
   ]
  },
  {
   "cell_type": "code",
   "execution_count": 160,
   "id": "40fe12ab-c609-48f3-b2cb-0117138b708c",
   "metadata": {},
   "outputs": [
    {
     "data": {
      "text/plain": [
       "2×2 Matrix{Float64}:\n",
       " -0.0  -0.333333\n",
       " -0.5   0.0"
      ]
     },
     "execution_count": 160,
     "metadata": {},
     "output_type": "execute_result"
    }
   ],
   "source": [
    "a=[1 2; 3 1]\n",
    "e=Matrix{Int}(I,2,2)\n",
    "inv(e-a)"
   ]
  },
  {
   "cell_type": "code",
   "execution_count": 161,
   "id": "36599fdf-8fc0-4026-bc5b-fd97bb2abfbf",
   "metadata": {},
   "outputs": [
    {
     "data": {
      "text/plain": [
       "2×2 Matrix{Float64}:\n",
       " -0.4  -0.8\n",
       " -1.2  -0.4"
      ]
     },
     "execution_count": 161,
     "metadata": {},
     "output_type": "execute_result"
    }
   ],
   "source": [
    "a=[1/2 2/2; 3/2 1/2]\n",
    "e=Matrix{Int}(I,2,2)\n",
    "inv(e-a)"
   ]
  },
  {
   "cell_type": "code",
   "execution_count": 162,
   "id": "a15ec0a3-0a76-4f8f-85d7-b9906f2a4fdb",
   "metadata": {},
   "outputs": [
    {
     "data": {
      "text/plain": [
       "2×2 Matrix{Float64}:\n",
       " 1.2  0.266667\n",
       " 0.4  1.2"
      ]
     },
     "execution_count": 162,
     "metadata": {},
     "output_type": "execute_result"
    }
   ],
   "source": [
    "a=[1/10 2/10; 3/10 1/10]\n",
    "e=Matrix{Int}(I,2,2)\n",
    "inv(e-a)"
   ]
  },
  {
   "cell_type": "code",
   "execution_count": 165,
   "id": "3932a159-4609-4a80-8d37-fc5457f0b8b7",
   "metadata": {},
   "outputs": [
    {
     "data": {
      "text/plain": [
       "2-element Vector{Float64}:\n",
       " -1.4494897427831779\n",
       "  3.4494897427831783"
      ]
     },
     "execution_count": 165,
     "metadata": {},
     "output_type": "execute_result"
    }
   ],
   "source": [
    "a=[1 2; 3 1]\n",
    "eigvals(a)"
   ]
  },
  {
   "cell_type": "code",
   "execution_count": 166,
   "id": "ba1db3c3-a253-4255-a0c5-5b249670eeb7",
   "metadata": {},
   "outputs": [
    {
     "data": {
      "text/plain": [
       "2-element Vector{Float64}:\n",
       " -0.7247448713915892\n",
       "  1.724744871391589"
      ]
     },
     "execution_count": 166,
     "metadata": {},
     "output_type": "execute_result"
    }
   ],
   "source": [
    "a=[1/2 2/2; 3/2 1/2]\n",
    "eigvals(a)"
   ]
  },
  {
   "cell_type": "code",
   "execution_count": 167,
   "id": "44c40131-d67d-4355-af1f-d361e3550267",
   "metadata": {},
   "outputs": [
    {
     "data": {
      "text/plain": [
       "2-element Vector{Float64}:\n",
       " -0.14494897427831785\n",
       "  0.34494897427831783"
      ]
     },
     "execution_count": 167,
     "metadata": {},
     "output_type": "execute_result"
    }
   ],
   "source": [
    "a=[1/10 2/10; 3/10 1/10]\n",
    "eigvals(a)"
   ]
  },
  {
   "cell_type": "code",
   "execution_count": 168,
   "id": "24387f77-298a-4f9e-893d-ffe166446fa9",
   "metadata": {},
   "outputs": [
    {
     "data": {
      "text/plain": [
       "3-element Vector{Float64}:\n",
       " 0.02679491924311228\n",
       " 0.1\n",
       " 0.37320508075688774"
      ]
     },
     "execution_count": 168,
     "metadata": {},
     "output_type": "execute_result"
    }
   ],
   "source": [
    "a=[0.1 0.2 0.3; 0 0.1 0.2; 0 0.1 0.3]\n",
    "eigvals(a)"
   ]
  },
  {
   "cell_type": "code",
   "execution_count": null,
   "id": "efc23586-b271-4c21-a4b8-93a56b23b92d",
   "metadata": {},
   "outputs": [],
   "source": []
  }
 ],
 "metadata": {
  "kernelspec": {
   "display_name": "Julia 1.6.2",
   "language": "julia",
   "name": "julia-1.6"
  },
  "language_info": {
   "file_extension": ".jl",
   "mimetype": "application/julia",
   "name": "julia",
   "version": "1.6.2"
  }
 },
 "nbformat": 4,
 "nbformat_minor": 5
}
