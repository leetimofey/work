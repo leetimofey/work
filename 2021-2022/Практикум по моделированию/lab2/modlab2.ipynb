{
 "cells": [
  {
   "cell_type": "code",
   "execution_count": 1,
   "id": "97120e1d-c7da-42e5-8610-4426014dac17",
   "metadata": {},
   "outputs": [
    {
     "data": {
      "text/plain": [
       "()"
      ]
     },
     "execution_count": 1,
     "metadata": {},
     "output_type": "execute_result"
    }
   ],
   "source": [
    "()"
   ]
  },
  {
   "cell_type": "code",
   "execution_count": 2,
   "id": "e568d975-1c27-4018-b8d6-da53d4403a18",
   "metadata": {},
   "outputs": [
    {
     "data": {
      "text/plain": [
       "(\"python\", \"julia\", \"r\")"
      ]
     },
     "execution_count": 2,
     "metadata": {},
     "output_type": "execute_result"
    }
   ],
   "source": [
    "fav=(\"python\",\"julia\",\"r\")\n",
    "fav"
   ]
  },
  {
   "cell_type": "code",
   "execution_count": 3,
   "id": "2eb0413b-3ba6-4ba5-8f47-f6bec53ce6d9",
   "metadata": {},
   "outputs": [
    {
     "data": {
      "text/plain": [
       "(1, 2, 3)"
      ]
     },
     "execution_count": 3,
     "metadata": {},
     "output_type": "execute_result"
    }
   ],
   "source": [
    "x1=(1,2,3)\n",
    "x1"
   ]
  },
  {
   "cell_type": "code",
   "execution_count": 4,
   "id": "baaf4a66-b1ab-47e6-8efc-9ac361b818ab",
   "metadata": {},
   "outputs": [
    {
     "data": {
      "text/plain": [
       "(1, 2.0, \"tmp\")"
      ]
     },
     "execution_count": 4,
     "metadata": {},
     "output_type": "execute_result"
    }
   ],
   "source": [
    "x2=(1,2.0,\"tmp\")"
   ]
  },
  {
   "cell_type": "code",
   "execution_count": 5,
   "id": "c57942cb-c0f4-4794-bc20-c733b97a7535",
   "metadata": {},
   "outputs": [
    {
     "data": {
      "text/plain": [
       "(a = 2, b = 3)"
      ]
     },
     "execution_count": 5,
     "metadata": {},
     "output_type": "execute_result"
    }
   ],
   "source": [
    "x3=(a=2,b=1+2)"
   ]
  },
  {
   "cell_type": "code",
   "execution_count": 6,
   "id": "e933c73c-3812-4bb4-a433-581ca85d4966",
   "metadata": {},
   "outputs": [
    {
     "data": {
      "text/plain": [
       "3"
      ]
     },
     "execution_count": 6,
     "metadata": {},
     "output_type": "execute_result"
    }
   ],
   "source": [
    "length(x2)"
   ]
  },
  {
   "cell_type": "code",
   "execution_count": 7,
   "id": "3951b9c2-2d06-41b8-aa8a-67aac15cf3a4",
   "metadata": {},
   "outputs": [
    {
     "data": {
      "text/plain": [
       "(1, 2.0)"
      ]
     },
     "execution_count": 7,
     "metadata": {},
     "output_type": "execute_result"
    }
   ],
   "source": [
    "x2[1], x2[2]"
   ]
  },
  {
   "cell_type": "code",
   "execution_count": 8,
   "id": "d022b9e2-df09-498f-a9f8-f957abf83eaa",
   "metadata": {},
   "outputs": [
    {
     "data": {
      "text/plain": [
       "5"
      ]
     },
     "execution_count": 8,
     "metadata": {},
     "output_type": "execute_result"
    }
   ],
   "source": [
    "c=x1[2]+x1[3]"
   ]
  },
  {
   "cell_type": "code",
   "execution_count": 9,
   "id": "41104ce4-ef13-4f60-a599-90bcc54cd6eb",
   "metadata": {},
   "outputs": [
    {
     "data": {
      "text/plain": [
       "(2, 3, 3)"
      ]
     },
     "execution_count": 9,
     "metadata": {},
     "output_type": "execute_result"
    }
   ],
   "source": [
    "x3.a, x3.b, x3[2]"
   ]
  },
  {
   "cell_type": "code",
   "execution_count": 10,
   "id": "c71bbb91-1fa0-4453-abd5-a563f200afc2",
   "metadata": {},
   "outputs": [
    {
     "data": {
      "text/plain": [
       "(true, false)"
      ]
     },
     "execution_count": 10,
     "metadata": {},
     "output_type": "execute_result"
    }
   ],
   "source": [
    "in(\"tmp\", x2), 0 in x2"
   ]
  },
  {
   "cell_type": "code",
   "execution_count": 11,
   "id": "c0ae70df-6212-467e-9a13-944b88161847",
   "metadata": {},
   "outputs": [
    {
     "data": {
      "text/plain": [
       "Dict{String, Any} with 2 entries:\n",
       "  \"Бухгалтерия\" => \"555-2368\"\n",
       "  \"Иванов И.И.\" => (\"867-5309\", \"333-5544\")"
      ]
     },
     "execution_count": 11,
     "metadata": {},
     "output_type": "execute_result"
    }
   ],
   "source": [
    "phonebook = Dict(\"Иванов И.И.\" => (\"867-5309\",\"333-5544\"), \"Бухгалтерия\" => \"555-2368\")"
   ]
  },
  {
   "cell_type": "code",
   "execution_count": 12,
   "id": "54ad2195-1357-4e48-9964-ec087622501d",
   "metadata": {},
   "outputs": [
    {
     "data": {
      "text/plain": [
       "KeySet for a Dict{String, Any} with 2 entries. Keys:\n",
       "  \"Бухгалтерия\"\n",
       "  \"Иванов И.И.\""
      ]
     },
     "execution_count": 12,
     "metadata": {},
     "output_type": "execute_result"
    }
   ],
   "source": [
    "keys(phonebook)"
   ]
  },
  {
   "cell_type": "code",
   "execution_count": 13,
   "id": "3481be62-41e0-45ba-98e8-3ac64330d7be",
   "metadata": {},
   "outputs": [
    {
     "data": {
      "text/plain": [
       "ValueIterator for a Dict{String, Any} with 2 entries. Values:\n",
       "  \"555-2368\"\n",
       "  (\"867-5309\", \"333-5544\")"
      ]
     },
     "execution_count": 13,
     "metadata": {},
     "output_type": "execute_result"
    }
   ],
   "source": [
    "values(phonebook)"
   ]
  },
  {
   "cell_type": "code",
   "execution_count": 14,
   "id": "f509dd28-7b21-4a18-a7da-37b8ad81ce18",
   "metadata": {},
   "outputs": [
    {
     "data": {
      "text/plain": [
       "Dict{String, Any} with 2 entries:\n",
       "  \"Бухгалтерия\" => \"555-2368\"\n",
       "  \"Иванов И.И.\" => (\"867-5309\", \"333-5544\")"
      ]
     },
     "execution_count": 14,
     "metadata": {},
     "output_type": "execute_result"
    }
   ],
   "source": [
    "pairs(phonebook)"
   ]
  },
  {
   "cell_type": "code",
   "execution_count": 15,
   "id": "26e44829-6528-41f0-be9f-5d18c9acb2d6",
   "metadata": {},
   "outputs": [
    {
     "data": {
      "text/plain": [
       "true"
      ]
     },
     "execution_count": 15,
     "metadata": {},
     "output_type": "execute_result"
    }
   ],
   "source": [
    "haskey(phonebook, \"Иванов И.И.\")"
   ]
  },
  {
   "cell_type": "code",
   "execution_count": 16,
   "id": "e49b1afe-e328-43c5-9536-1072fdb7b157",
   "metadata": {},
   "outputs": [
    {
     "data": {
      "text/plain": [
       "\"555-3344\""
      ]
     },
     "execution_count": 16,
     "metadata": {},
     "output_type": "execute_result"
    }
   ],
   "source": [
    "phonebook[\"Сидоров П.С.\"] = \"555-3344\""
   ]
  },
  {
   "cell_type": "code",
   "execution_count": 17,
   "id": "374422ec-d282-46c0-9a97-33e5904778f0",
   "metadata": {},
   "outputs": [
    {
     "data": {
      "text/plain": [
       "(\"867-5309\", \"333-5544\")"
      ]
     },
     "execution_count": 17,
     "metadata": {},
     "output_type": "execute_result"
    }
   ],
   "source": [
    "pop!(phonebook, \"Иванов И.И.\")"
   ]
  },
  {
   "cell_type": "code",
   "execution_count": 18,
   "id": "5d8a6c6e-254d-4cbf-8473-b53fd9e87297",
   "metadata": {},
   "outputs": [
    {
     "data": {
      "text/plain": [
       "Dict{String, Any} with 2 entries:\n",
       "  \"Сидоров П.С.\" => \"555-3344\"\n",
       "  \"Бухгалтерия\"  => \"555-2368\""
      ]
     },
     "execution_count": 18,
     "metadata": {},
     "output_type": "execute_result"
    }
   ],
   "source": [
    "phonebook"
   ]
  },
  {
   "cell_type": "code",
   "execution_count": 19,
   "id": "96b28a7b-0b9f-4086-85ab-04b6fe543476",
   "metadata": {},
   "outputs": [
    {
     "data": {
      "text/plain": [
       "(Dict{String, Real}(\"bar\" => 13.0, \"baz\" => 17, \"foo\" => 0.0), Dict{String, Real}(\"bar\" => 42.0, \"baz\" => 17, \"foo\" => 0.0))"
      ]
     },
     "execution_count": 19,
     "metadata": {},
     "output_type": "execute_result"
    }
   ],
   "source": [
    "a=Dict(\"foo\"=>0.0, \"bar\"=>42.0)\n",
    "b=Dict(\"baz\"=>17, \"bar\"=>13.0)\n",
    "merge(a,b), merge(b,a)"
   ]
  },
  {
   "cell_type": "code",
   "execution_count": 20,
   "id": "f0c9843c-a213-43fb-99be-3a399e0391e4",
   "metadata": {},
   "outputs": [
    {
     "data": {
      "text/plain": [
       "Set{Int64} with 4 elements:\n",
       "  5\n",
       "  4\n",
       "  3\n",
       "  1"
      ]
     },
     "execution_count": 20,
     "metadata": {},
     "output_type": "execute_result"
    }
   ],
   "source": [
    "A=Set([1,3,4,5])"
   ]
  },
  {
   "cell_type": "code",
   "execution_count": 21,
   "id": "9364eb6a-c781-4094-8c6c-c827860bcc1c",
   "metadata": {},
   "outputs": [
    {
     "data": {
      "text/plain": [
       "Set{Char} with 5 elements:\n",
       "  'a'\n",
       "  'd'\n",
       "  'r'\n",
       "  'k'\n",
       "  'b'"
      ]
     },
     "execution_count": 21,
     "metadata": {},
     "output_type": "execute_result"
    }
   ],
   "source": [
    "B=Set(\"abrakadabra\")"
   ]
  },
  {
   "cell_type": "code",
   "execution_count": 22,
   "id": "879d9ca3-e3ad-41f8-8670-b2485f94a7cb",
   "metadata": {},
   "outputs": [
    {
     "data": {
      "text/plain": [
       "false"
      ]
     },
     "execution_count": 22,
     "metadata": {},
     "output_type": "execute_result"
    }
   ],
   "source": [
    "S1=Set([1,2])\n",
    "S2=Set([3,4])\n",
    "issetequal(S1,S2)"
   ]
  },
  {
   "cell_type": "code",
   "execution_count": 23,
   "id": "3d932802-d821-42e3-b5ce-adc8e784b9cc",
   "metadata": {},
   "outputs": [
    {
     "data": {
      "text/plain": [
       "true"
      ]
     },
     "execution_count": 23,
     "metadata": {},
     "output_type": "execute_result"
    }
   ],
   "source": [
    "s3=Set([1,2,2,3,1,2,3,2,1])\n",
    "s4=Set([2,3,1])\n",
    "issetequal(s3,s4)"
   ]
  },
  {
   "cell_type": "code",
   "execution_count": 24,
   "id": "b31b014e-16a4-4b83-a093-e8663e30d57b",
   "metadata": {},
   "outputs": [
    {
     "data": {
      "text/plain": [
       "Set{Int64} with 4 elements:\n",
       "  4\n",
       "  2\n",
       "  3\n",
       "  1"
      ]
     },
     "execution_count": 24,
     "metadata": {},
     "output_type": "execute_result"
    }
   ],
   "source": [
    "c=union(S1,S2)"
   ]
  },
  {
   "cell_type": "code",
   "execution_count": 25,
   "id": "bf930c94-ad7d-46f8-a6c6-040ffca85fd2",
   "metadata": {},
   "outputs": [
    {
     "data": {
      "text/plain": [
       "Set{Int64} with 2 elements:\n",
       "  2\n",
       "  1"
      ]
     },
     "execution_count": 25,
     "metadata": {},
     "output_type": "execute_result"
    }
   ],
   "source": [
    "d=intersect(S1,s3)"
   ]
  },
  {
   "cell_type": "code",
   "execution_count": 26,
   "id": "ad391959-84f4-4c14-9dc0-4060d2cfcc7b",
   "metadata": {},
   "outputs": [
    {
     "data": {
      "text/plain": [
       "Set{Int64} with 1 element:\n",
       "  3"
      ]
     },
     "execution_count": 26,
     "metadata": {},
     "output_type": "execute_result"
    }
   ],
   "source": [
    "e=setdiff(s3,S1)"
   ]
  },
  {
   "cell_type": "code",
   "execution_count": 27,
   "id": "20663d86-d8a9-42e0-998e-af5ad12ff28e",
   "metadata": {},
   "outputs": [
    {
     "data": {
      "text/plain": [
       "true"
      ]
     },
     "execution_count": 27,
     "metadata": {},
     "output_type": "execute_result"
    }
   ],
   "source": [
    "issubset(S1,s4)"
   ]
  },
  {
   "cell_type": "code",
   "execution_count": 28,
   "id": "c98cb2ba-5999-42ab-bf6c-124c0d1aea6b",
   "metadata": {},
   "outputs": [
    {
     "data": {
      "text/plain": [
       "Set{Int64} with 4 elements:\n",
       "  2\n",
       "  99\n",
       "  3\n",
       "  1"
      ]
     },
     "execution_count": 28,
     "metadata": {},
     "output_type": "execute_result"
    }
   ],
   "source": [
    "push!(s4,99)"
   ]
  },
  {
   "cell_type": "code",
   "execution_count": 29,
   "id": "f9125e77-c9d7-44d3-999b-a4b6410fc628",
   "metadata": {},
   "outputs": [
    {
     "data": {
      "text/plain": [
       "2"
      ]
     },
     "execution_count": 29,
     "metadata": {},
     "output_type": "execute_result"
    }
   ],
   "source": [
    "pop!(s4)"
   ]
  },
  {
   "cell_type": "code",
   "execution_count": 30,
   "id": "2092f8ae-ada3-4da0-9743-94f2c359ebb0",
   "metadata": {},
   "outputs": [
    {
     "data": {
      "text/plain": [
       "Set{Int64} with 3 elements:\n",
       "  99\n",
       "  3\n",
       "  1"
      ]
     },
     "execution_count": 30,
     "metadata": {},
     "output_type": "execute_result"
    }
   ],
   "source": [
    "s4"
   ]
  },
  {
   "cell_type": "code",
   "execution_count": 31,
   "id": "0bec7a71-1bd9-47e3-9801-70cd37fd15e3",
   "metadata": {},
   "outputs": [
    {
     "data": {
      "text/plain": [
       "Any[]"
      ]
     },
     "execution_count": 31,
     "metadata": {},
     "output_type": "execute_result"
    }
   ],
   "source": [
    "ea1=[]"
   ]
  },
  {
   "cell_type": "code",
   "execution_count": 32,
   "id": "bad971a3-e883-44af-bb0c-7ce03b4b8388",
   "metadata": {},
   "outputs": [
    {
     "data": {
      "text/plain": [
       "Integer[]"
      ]
     },
     "execution_count": 32,
     "metadata": {},
     "output_type": "execute_result"
    }
   ],
   "source": [
    "ea2=(Integer)[]"
   ]
  },
  {
   "cell_type": "code",
   "execution_count": 33,
   "id": "3cd5bbae-d79d-4c83-bfcc-9b215dbb7b08",
   "metadata": {},
   "outputs": [
    {
     "data": {
      "text/plain": [
       "Float64[]"
      ]
     },
     "execution_count": 33,
     "metadata": {},
     "output_type": "execute_result"
    }
   ],
   "source": [
    "ea3=(Float64)[]"
   ]
  },
  {
   "cell_type": "code",
   "execution_count": 34,
   "id": "53857790-54e1-49df-83d3-ac820a081ae3",
   "metadata": {},
   "outputs": [
    {
     "data": {
      "text/plain": [
       "3-element Vector{Int64}:\n",
       " 1\n",
       " 2\n",
       " 3"
      ]
     },
     "execution_count": 34,
     "metadata": {},
     "output_type": "execute_result"
    }
   ],
   "source": [
    "a=[1,2,3]"
   ]
  },
  {
   "cell_type": "code",
   "execution_count": 35,
   "id": "a2464a9b-f201-40ec-a55d-c7bafd43c1bb",
   "metadata": {},
   "outputs": [
    {
     "data": {
      "text/plain": [
       "1×3 Matrix{Int64}:\n",
       " 1  2  3"
      ]
     },
     "execution_count": 35,
     "metadata": {},
     "output_type": "execute_result"
    }
   ],
   "source": [
    "b=[1 2 3]"
   ]
  },
  {
   "cell_type": "code",
   "execution_count": 36,
   "id": "e38736c7-ef2c-4e8c-b686-efb96814930d",
   "metadata": {},
   "outputs": [
    {
     "data": {
      "text/plain": [
       "3×3 Matrix{Int64}:\n",
       " 1  4  7\n",
       " 2  5  8\n",
       " 3  6  9"
      ]
     },
     "execution_count": 36,
     "metadata": {},
     "output_type": "execute_result"
    }
   ],
   "source": [
    "A=[[1,2,3] [4,5,6] [7,8,9]]"
   ]
  },
  {
   "cell_type": "code",
   "execution_count": 37,
   "id": "0933826f-a993-43f3-9090-485bdf75b41a",
   "metadata": {},
   "outputs": [
    {
     "data": {
      "text/plain": [
       "3×3 Matrix{Int64}:\n",
       " 1  2  3\n",
       " 4  5  6\n",
       " 7  8  9"
      ]
     },
     "execution_count": 37,
     "metadata": {},
     "output_type": "execute_result"
    }
   ],
   "source": [
    "B=[[1 2 3]; [4 5 6]; [7 8 9]]"
   ]
  },
  {
   "cell_type": "code",
   "execution_count": 38,
   "id": "a86cfa2e-7cf1-4f59-91f2-a856e09595fa",
   "metadata": {},
   "outputs": [
    {
     "data": {
      "text/plain": [
       "1×8 Matrix{Float64}:\n",
       " 0.385775  0.840777  0.814119  0.915637  …  0.121126  0.585728  0.0588356"
      ]
     },
     "execution_count": 38,
     "metadata": {},
     "output_type": "execute_result"
    }
   ],
   "source": [
    "c=rand(1,8)"
   ]
  },
  {
   "cell_type": "code",
   "execution_count": 39,
   "id": "69895111-d9aa-4557-a6fc-c9ee9ae26d82",
   "metadata": {},
   "outputs": [
    {
     "data": {
      "text/plain": [
       "2×3 Matrix{Float64}:\n",
       " 0.143131  0.892835  0.0349428\n",
       " 0.101308  0.258833  0.23488"
      ]
     },
     "execution_count": 39,
     "metadata": {},
     "output_type": "execute_result"
    }
   ],
   "source": [
    "C=rand(2,3)"
   ]
  },
  {
   "cell_type": "code",
   "execution_count": 40,
   "id": "166be896-8547-40fc-a9b2-e1555676773c",
   "metadata": {},
   "outputs": [
    {
     "data": {
      "text/plain": [
       "4×3×2 Array{Float64, 3}:\n",
       "[:, :, 1] =\n",
       " 0.167084  0.729376  0.424649\n",
       " 0.546267  0.519413  0.484973\n",
       " 0.571437  0.787869  0.622602\n",
       " 0.841251  0.451533  0.331373\n",
       "\n",
       "[:, :, 2] =\n",
       " 0.589348  0.795452  0.415582\n",
       " 0.112638  0.162374  0.290339\n",
       " 0.555702  0.292073  0.0871626\n",
       " 0.836485  0.283858  0.358148"
      ]
     },
     "execution_count": 40,
     "metadata": {},
     "output_type": "execute_result"
    }
   ],
   "source": [
    "D=rand(4,3,2)"
   ]
  },
  {
   "cell_type": "code",
   "execution_count": 41,
   "id": "37464e0c-e429-4037-970f-a78a5ef39435",
   "metadata": {},
   "outputs": [
    {
     "data": {
      "text/plain": [
       "10-element Vector{Float64}:\n",
       " 1.0\n",
       " 1.4142135623730951\n",
       " 1.7320508075688772\n",
       " 2.0\n",
       " 2.23606797749979\n",
       " 2.449489742783178\n",
       " 2.6457513110645907\n",
       " 2.8284271247461903\n",
       " 3.0\n",
       " 3.1622776601683795"
      ]
     },
     "execution_count": 41,
     "metadata": {},
     "output_type": "execute_result"
    }
   ],
   "source": [
    "roots=[sqrt(i) for i in 1:10]"
   ]
  },
  {
   "cell_type": "code",
   "execution_count": 42,
   "id": "ccdb2c7b-550f-49e2-a082-4bfc636d2848",
   "metadata": {},
   "outputs": [
    {
     "data": {
      "text/plain": [
       "5-element Vector{Int64}:\n",
       "   3\n",
       "  27\n",
       "  75\n",
       " 147\n",
       " 243"
      ]
     },
     "execution_count": 42,
     "metadata": {},
     "output_type": "execute_result"
    }
   ],
   "source": [
    "ar1=[3*i^2 for i in 1:2:9]"
   ]
  },
  {
   "cell_type": "code",
   "execution_count": 43,
   "id": "264176c4-116b-4ae1-807f-be0a61e35457",
   "metadata": {},
   "outputs": [
    {
     "data": {
      "text/plain": [
       "4-element Vector{Int64}:\n",
       "  1\n",
       "  9\n",
       " 49\n",
       " 81"
      ]
     },
     "execution_count": 43,
     "metadata": {},
     "output_type": "execute_result"
    }
   ],
   "source": [
    "ar2=[i^2 for i in 1:10 if (i^2%5!=0 && i^2%4!=0)]"
   ]
  },
  {
   "cell_type": "code",
   "execution_count": 44,
   "id": "3db4295f-e764-4195-a5e9-08967d90fded",
   "metadata": {},
   "outputs": [
    {
     "data": {
      "text/plain": [
       "5-element Vector{Float64}:\n",
       " 1.0\n",
       " 1.0\n",
       " 1.0\n",
       " 1.0\n",
       " 1.0"
      ]
     },
     "execution_count": 44,
     "metadata": {},
     "output_type": "execute_result"
    }
   ],
   "source": [
    "ones(5)"
   ]
  },
  {
   "cell_type": "code",
   "execution_count": 45,
   "id": "69c03bd6-8a2d-46ea-a66e-88890bf06d46",
   "metadata": {},
   "outputs": [
    {
     "data": {
      "text/plain": [
       "2×3 Matrix{Float64}:\n",
       " 1.0  1.0  1.0\n",
       " 1.0  1.0  1.0"
      ]
     },
     "execution_count": 45,
     "metadata": {},
     "output_type": "execute_result"
    }
   ],
   "source": [
    "ones(2,3)"
   ]
  },
  {
   "cell_type": "code",
   "execution_count": 46,
   "id": "3fd84ad6-114c-47fd-8b2d-e9efead4091d",
   "metadata": {},
   "outputs": [
    {
     "data": {
      "text/plain": [
       "4-element Vector{Float64}:\n",
       " 0.0\n",
       " 0.0\n",
       " 0.0\n",
       " 0.0"
      ]
     },
     "execution_count": 46,
     "metadata": {},
     "output_type": "execute_result"
    }
   ],
   "source": [
    "zeros(4)"
   ]
  },
  {
   "cell_type": "code",
   "execution_count": 47,
   "id": "a7374d10-fd8b-48df-bdde-cc96717bdfe7",
   "metadata": {},
   "outputs": [
    {
     "data": {
      "text/plain": [
       "3×2 Matrix{Float64}:\n",
       " 3.5  3.5\n",
       " 3.5  3.5\n",
       " 3.5  3.5"
      ]
     },
     "execution_count": 47,
     "metadata": {},
     "output_type": "execute_result"
    }
   ],
   "source": [
    "fill(3.5,(3,2))"
   ]
  },
  {
   "cell_type": "code",
   "execution_count": 48,
   "id": "b435be38-a166-4d76-b20e-4fde5bc42e75",
   "metadata": {},
   "outputs": [
    {
     "data": {
      "text/plain": [
       "3×6 Matrix{Int64}:\n",
       " 1  2  1  2  1  2\n",
       " 1  2  1  2  1  2\n",
       " 1  2  1  2  1  2"
      ]
     },
     "execution_count": 48,
     "metadata": {},
     "output_type": "execute_result"
    }
   ],
   "source": [
    "repeat([1 2],3,3)"
   ]
  },
  {
   "cell_type": "code",
   "execution_count": 49,
   "id": "c098e708-531d-46d6-ae9f-1f636febb23d",
   "metadata": {},
   "outputs": [
    {
     "data": {
      "text/plain": [
       "2×6 Matrix{Int64}:\n",
       " 1  3  5  7   9  11\n",
       " 2  4  6  8  10  12"
      ]
     },
     "execution_count": 49,
     "metadata": {},
     "output_type": "execute_result"
    }
   ],
   "source": [
    "a = collect(1:12)\n",
    "b = reshape(a,(2,6))"
   ]
  },
  {
   "cell_type": "code",
   "execution_count": 50,
   "id": "c85a7757-9578-47a7-9268-0180f3b86b9b",
   "metadata": {},
   "outputs": [
    {
     "data": {
      "text/plain": [
       "6×2 adjoint(::Matrix{Int64}) with eltype Int64:\n",
       "  1   2\n",
       "  3   4\n",
       "  5   6\n",
       "  7   8\n",
       "  9  10\n",
       " 11  12"
      ]
     },
     "execution_count": 50,
     "metadata": {},
     "output_type": "execute_result"
    }
   ],
   "source": [
    "b'"
   ]
  },
  {
   "cell_type": "code",
   "execution_count": 51,
   "id": "2d6f93c2-c6c0-4264-8aca-23cc2cfe149e",
   "metadata": {},
   "outputs": [
    {
     "data": {
      "text/plain": [
       "6×2 transpose(::Matrix{Int64}) with eltype Int64:\n",
       "  1   2\n",
       "  3   4\n",
       "  5   6\n",
       "  7   8\n",
       "  9  10\n",
       " 11  12"
      ]
     },
     "execution_count": 51,
     "metadata": {},
     "output_type": "execute_result"
    }
   ],
   "source": [
    "c=transpose(b)"
   ]
  },
  {
   "cell_type": "code",
   "execution_count": 52,
   "id": "67f54d31-e93f-4c12-a0f1-be04ed74aa3b",
   "metadata": {},
   "outputs": [
    {
     "data": {
      "text/plain": [
       "10×5 Matrix{Int64}:\n",
       " 12  10  19  16  12\n",
       " 16  18  19  12  11\n",
       " 17  11  19  19  16\n",
       " 17  20  17  16  19\n",
       " 14  10  10  20  15\n",
       " 20  11  20  15  20\n",
       " 14  20  10  16  17\n",
       " 14  12  12  10  16\n",
       " 10  13  19  13  14\n",
       " 12  11  18  11  17"
      ]
     },
     "execution_count": 52,
     "metadata": {},
     "output_type": "execute_result"
    }
   ],
   "source": [
    "ar=rand(10:20, 10, 5)"
   ]
  },
  {
   "cell_type": "code",
   "execution_count": 53,
   "id": "cda0f5d8-015d-4bdc-9746-207922f06764",
   "metadata": {},
   "outputs": [
    {
     "data": {
      "text/plain": [
       "10-element Vector{Int64}:\n",
       " 10\n",
       " 18\n",
       " 11\n",
       " 20\n",
       " 10\n",
       " 11\n",
       " 20\n",
       " 12\n",
       " 13\n",
       " 11"
      ]
     },
     "execution_count": 53,
     "metadata": {},
     "output_type": "execute_result"
    }
   ],
   "source": [
    "ar[:,2]"
   ]
  },
  {
   "cell_type": "code",
   "execution_count": 54,
   "id": "96db0cf2-c480-4b50-b7e9-5172809afff7",
   "metadata": {},
   "outputs": [
    {
     "data": {
      "text/plain": [
       "10×2 Matrix{Int64}:\n",
       " 10  12\n",
       " 18  11\n",
       " 11  16\n",
       " 20  19\n",
       " 10  15\n",
       " 11  20\n",
       " 20  17\n",
       " 12  16\n",
       " 13  14\n",
       " 11  17"
      ]
     },
     "execution_count": 54,
     "metadata": {},
     "output_type": "execute_result"
    }
   ],
   "source": [
    "ar[:,[2,5]]"
   ]
  },
  {
   "cell_type": "code",
   "execution_count": 55,
   "id": "34ab0acb-593e-4e3c-80f1-07958993e3f3",
   "metadata": {},
   "outputs": [
    {
     "data": {
      "text/plain": [
       "10×3 Matrix{Int64}:\n",
       " 10  19  16\n",
       " 18  19  12\n",
       " 11  19  19\n",
       " 20  17  16\n",
       " 10  10  20\n",
       " 11  20  15\n",
       " 20  10  16\n",
       " 12  12  10\n",
       " 13  19  13\n",
       " 11  18  11"
      ]
     },
     "execution_count": 55,
     "metadata": {},
     "output_type": "execute_result"
    }
   ],
   "source": [
    "ar[:,2:4]"
   ]
  },
  {
   "cell_type": "code",
   "execution_count": 56,
   "id": "ecd7c0fd-119d-413d-9682-ad64b9de477b",
   "metadata": {},
   "outputs": [
    {
     "data": {
      "text/plain": [
       "3×2 Matrix{Int64}:\n",
       " 16  11\n",
       " 17  19\n",
       " 20  20"
      ]
     },
     "execution_count": 56,
     "metadata": {},
     "output_type": "execute_result"
    }
   ],
   "source": [
    "ar[[2,4,6],[1,5]]"
   ]
  },
  {
   "cell_type": "code",
   "execution_count": 57,
   "id": "a1b226d2-446c-4833-924c-d0078423aaa8",
   "metadata": {},
   "outputs": [
    {
     "data": {
      "text/plain": [
       "3-element Vector{Int64}:\n",
       " 19\n",
       " 16\n",
       " 12"
      ]
     },
     "execution_count": 57,
     "metadata": {},
     "output_type": "execute_result"
    }
   ],
   "source": [
    "ar[1,3:end]"
   ]
  },
  {
   "cell_type": "code",
   "execution_count": 58,
   "id": "3fc066f6-eead-408b-9026-d9087e223d72",
   "metadata": {},
   "outputs": [
    {
     "data": {
      "text/plain": [
       "10×5 Matrix{Int64}:\n",
       " 10  10  10  10  11\n",
       " 12  10  10  11  12\n",
       " 12  11  12  12  14\n",
       " 14  11  17  13  15\n",
       " 14  11  18  15  16\n",
       " 14  12  19  16  16\n",
       " 16  13  19  16  17\n",
       " 17  18  19  16  17\n",
       " 17  20  19  19  19\n",
       " 20  20  20  20  20"
      ]
     },
     "execution_count": 58,
     "metadata": {},
     "output_type": "execute_result"
    }
   ],
   "source": [
    "sort(ar, dims=1)"
   ]
  },
  {
   "cell_type": "code",
   "execution_count": 59,
   "id": "22a310b9-a022-47f2-8824-a84f3b355c37",
   "metadata": {},
   "outputs": [
    {
     "data": {
      "text/plain": [
       "10×5 Matrix{Int64}:\n",
       " 10  12  12  16  19\n",
       " 11  12  16  18  19\n",
       " 11  16  17  19  19\n",
       " 16  17  17  19  20\n",
       " 10  10  14  15  20\n",
       " 11  15  20  20  20\n",
       " 10  14  16  17  20\n",
       " 10  12  12  14  16\n",
       " 10  13  13  14  19\n",
       " 11  11  12  17  18"
      ]
     },
     "execution_count": 59,
     "metadata": {},
     "output_type": "execute_result"
    }
   ],
   "source": [
    "sort(ar,dims=2)"
   ]
  },
  {
   "cell_type": "code",
   "execution_count": 60,
   "id": "0add03c8-b1c5-4a6f-bb34-632ce6bed26f",
   "metadata": {},
   "outputs": [
    {
     "data": {
      "text/plain": [
       "10×5 BitMatrix:\n",
       " 0  0  1  1  0\n",
       " 1  1  1  0  0\n",
       " 1  0  1  1  1\n",
       " 1  1  1  1  1\n",
       " 0  0  0  1  1\n",
       " 1  0  1  1  1\n",
       " 0  1  0  1  1\n",
       " 0  0  0  0  1\n",
       " 0  0  1  0  0\n",
       " 0  0  1  0  1"
      ]
     },
     "execution_count": 60,
     "metadata": {},
     "output_type": "execute_result"
    }
   ],
   "source": [
    "ar .> 14"
   ]
  },
  {
   "cell_type": "code",
   "execution_count": 61,
   "id": "0c0b5e8c-3aff-488d-a843-e616f545fcab",
   "metadata": {},
   "outputs": [
    {
     "data": {
      "text/plain": [
       "27-element Vector{CartesianIndex{2}}:\n",
       " CartesianIndex(2, 1)\n",
       " CartesianIndex(3, 1)\n",
       " CartesianIndex(4, 1)\n",
       " CartesianIndex(6, 1)\n",
       " CartesianIndex(2, 2)\n",
       " CartesianIndex(4, 2)\n",
       " CartesianIndex(7, 2)\n",
       " CartesianIndex(1, 3)\n",
       " CartesianIndex(2, 3)\n",
       " CartesianIndex(3, 3)\n",
       " CartesianIndex(4, 3)\n",
       " CartesianIndex(6, 3)\n",
       " CartesianIndex(9, 3)\n",
       " ⋮\n",
       " CartesianIndex(3, 4)\n",
       " CartesianIndex(4, 4)\n",
       " CartesianIndex(5, 4)\n",
       " CartesianIndex(6, 4)\n",
       " CartesianIndex(7, 4)\n",
       " CartesianIndex(3, 5)\n",
       " CartesianIndex(4, 5)\n",
       " CartesianIndex(5, 5)\n",
       " CartesianIndex(6, 5)\n",
       " CartesianIndex(7, 5)\n",
       " CartesianIndex(8, 5)\n",
       " CartesianIndex(10, 5)"
      ]
     },
     "execution_count": 61,
     "metadata": {},
     "output_type": "execute_result"
    }
   ],
   "source": [
    "findall(ar .> 14)"
   ]
  },
  {
   "cell_type": "code",
   "execution_count": 62,
   "id": "f1b3e876-4027-4398-a1a1-ea5fdc03d998",
   "metadata": {},
   "outputs": [
    {
     "data": {
      "text/plain": [
       "Set{Int64} with 7 elements:\n",
       "  0\n",
       "  4\n",
       "  7\n",
       "  2\n",
       "  9\n",
       "  8\n",
       "  1"
      ]
     },
     "execution_count": 62,
     "metadata": {},
     "output_type": "execute_result"
    }
   ],
   "source": [
    "A=Set([0,3,4,9])\n",
    "B=Set([1,3,4,7])\n",
    "C=Set([0,1,2,4,7,8,9])"
   ]
  },
  {
   "cell_type": "code",
   "execution_count": 63,
   "id": "3086f434-d93f-4e5f-a532-ec46c63957c9",
   "metadata": {},
   "outputs": [
    {
     "data": {
      "text/plain": [
       "Set{Int64} with 5 elements:\n",
       "  0\n",
       "  4\n",
       "  7\n",
       "  9\n",
       "  1"
      ]
     },
     "execution_count": 63,
     "metadata": {},
     "output_type": "execute_result"
    }
   ],
   "source": [
    "P=intersect(A,B)\n",
    "P=union(P,A)\n",
    "P=intersect(P,B)\n",
    "P=union(P,A)\n",
    "P=intersect(P,C)\n",
    "P=union(P,B)\n",
    "P=intersect(P,C)"
   ]
  },
  {
   "cell_type": "code",
   "execution_count": 64,
   "id": "e469bffb-d0bf-4627-9644-43d94f1f6b80",
   "metadata": {},
   "outputs": [
    {
     "data": {
      "text/plain": [
       "Set{Int64} with 3 elements:\n",
       "  6\n",
       "  2\n",
       "  9"
      ]
     },
     "execution_count": 64,
     "metadata": {},
     "output_type": "execute_result"
    }
   ],
   "source": [
    "t1=Set(\"laboratory\")\n",
    "t2=Set([1.0, 2.3, 4,9])\n",
    "t3=Set([2,6,9])"
   ]
  },
  {
   "cell_type": "code",
   "execution_count": 65,
   "id": "fac97b5d-406d-44c1-8dbf-ada74a95b079",
   "metadata": {},
   "outputs": [
    {
     "data": {
      "text/plain": [
       "false"
      ]
     },
     "execution_count": 65,
     "metadata": {},
     "output_type": "execute_result"
    }
   ],
   "source": [
    "issetequal(t2,t3)"
   ]
  },
  {
   "cell_type": "code",
   "execution_count": 66,
   "id": "ab726422-80eb-4b29-82b2-9139e8beb5d4",
   "metadata": {},
   "outputs": [
    {
     "data": {
      "text/plain": [
       "Set{Float64} with 6 elements:\n",
       "  4.0\n",
       "  6.0\n",
       "  2.0\n",
       "  2.3\n",
       "  9.0\n",
       "  1.0"
      ]
     },
     "execution_count": 66,
     "metadata": {},
     "output_type": "execute_result"
    }
   ],
   "source": [
    "union(t2,t3)"
   ]
  },
  {
   "cell_type": "code",
   "execution_count": 67,
   "id": "b4952655-7b02-40cd-b037-93a2da85fbee",
   "metadata": {},
   "outputs": [
    {
     "data": {
      "text/plain": [
       "Set{Any} with 10 elements:\n",
       "  6\n",
       "  2\n",
       "  'a'\n",
       "  'l'\n",
       "  'r'\n",
       "  't'\n",
       "  'o'\n",
       "  'y'\n",
       "  9\n",
       "  'b'"
      ]
     },
     "execution_count": 67,
     "metadata": {},
     "output_type": "execute_result"
    }
   ],
   "source": [
    "union(t1,t3)"
   ]
  },
  {
   "cell_type": "code",
   "execution_count": 68,
   "id": "5cb27ce1-389b-4eb5-b529-e7de1cda7fc8",
   "metadata": {},
   "outputs": [
    {
     "data": {
      "text/plain": [
       "'a': ASCII/Unicode U+0061 (category Ll: Letter, lowercase)"
      ]
     },
     "execution_count": 68,
     "metadata": {},
     "output_type": "execute_result"
    }
   ],
   "source": [
    "pop!(t1)"
   ]
  },
  {
   "cell_type": "code",
   "execution_count": 69,
   "id": "8ac4a627-3a8a-4bbe-96a9-68e2e8eae861",
   "metadata": {},
   "outputs": [
    {
     "data": {
      "text/plain": [
       "Set{Char} with 6 elements:\n",
       "  'l'\n",
       "  'r'\n",
       "  't'\n",
       "  'o'\n",
       "  'y'\n",
       "  'b'"
      ]
     },
     "execution_count": 69,
     "metadata": {},
     "output_type": "execute_result"
    }
   ],
   "source": [
    "t1"
   ]
  },
  {
   "cell_type": "code",
   "execution_count": 70,
   "id": "02a0bb25-f520-4b26-bcc2-6607cb433fc2",
   "metadata": {},
   "outputs": [
    {
     "data": {
      "text/plain": [
       "Set{Float64} with 5 elements:\n",
       "  4.0\n",
       "  2.0\n",
       "  2.3\n",
       "  9.0\n",
       "  1.0"
      ]
     },
     "execution_count": 70,
     "metadata": {},
     "output_type": "execute_result"
    }
   ],
   "source": [
    "push!(t2, 2)"
   ]
  },
  {
   "cell_type": "code",
   "execution_count": 71,
   "id": "eb131c68-98fe-49b6-ab9f-26fa1d4eee21",
   "metadata": {},
   "outputs": [
    {
     "data": {
      "text/plain": [
       "Set{Int64} with 4 elements:\n",
       "  6\n",
       "  2\n",
       "  9\n",
       "  3"
      ]
     },
     "execution_count": 71,
     "metadata": {},
     "output_type": "execute_result"
    }
   ],
   "source": [
    "push!(t3, 3.0)"
   ]
  },
  {
   "cell_type": "code",
   "execution_count": 72,
   "id": "f42787f3-4b21-4af9-94d6-53ff892ac841",
   "metadata": {},
   "outputs": [
    {
     "ename": "LoadError",
     "evalue": "InexactError: Int64(4.2)",
     "output_type": "error",
     "traceback": [
      "InexactError: Int64(4.2)",
      "",
      "Stacktrace:",
      " [1] Int64",
      "   @ .\\float.jl:723 [inlined]",
      " [2] convert",
      "   @ .\\number.jl:7 [inlined]",
      " [3] setindex!(h::Dict{Int64, Nothing}, v0::Nothing, key0::Float64)",
      "   @ Base .\\dict.jl:374",
      " [4] push!(s::Set{Int64}, x::Float64)",
      "   @ Base .\\set.jl:57",
      " [5] top-level scope",
      "   @ In[72]:1",
      " [6] eval",
      "   @ .\\boot.jl:360 [inlined]",
      " [7] include_string(mapexpr::typeof(REPL.softscope), mod::Module, code::String, filename::String)",
      "   @ Base .\\loading.jl:1116"
     ]
    }
   ],
   "source": [
    "push!(t3, 4.2)"
   ]
  },
  {
   "cell_type": "code",
   "execution_count": 1,
   "id": "f9b4e5e4-9c23-4c1e-82b3-65703cc8ed99",
   "metadata": {},
   "outputs": [
    {
     "data": {
      "text/plain": [
       "24-element Vector{Int64}:\n",
       "  1\n",
       "  2\n",
       "  3\n",
       "  4\n",
       "  5\n",
       "  6\n",
       "  7\n",
       "  8\n",
       "  9\n",
       " 10\n",
       " 11\n",
       " 12\n",
       " 13\n",
       " 14\n",
       " 15\n",
       " 16\n",
       " 17\n",
       " 18\n",
       " 19\n",
       " 20\n",
       " 21\n",
       " 22\n",
       " 23\n",
       " 24"
      ]
     },
     "execution_count": 1,
     "metadata": {},
     "output_type": "execute_result"
    }
   ],
   "source": [
    "N=24\n",
    "t5=collect(1:N)"
   ]
  },
  {
   "cell_type": "code",
   "execution_count": 2,
   "id": "9cd0f997-fb3d-4d52-9aff-587c158ccd39",
   "metadata": {},
   "outputs": [
    {
     "data": {
      "text/plain": [
       "24-element Vector{Int64}:\n",
       " 24\n",
       " 23\n",
       " 22\n",
       " 21\n",
       " 20\n",
       " 19\n",
       " 18\n",
       " 17\n",
       " 16\n",
       " 15\n",
       " 14\n",
       " 13\n",
       " 12\n",
       " 11\n",
       " 10\n",
       "  9\n",
       "  8\n",
       "  7\n",
       "  6\n",
       "  5\n",
       "  4\n",
       "  3\n",
       "  2\n",
       "  1"
      ]
     },
     "execution_count": 2,
     "metadata": {},
     "output_type": "execute_result"
    }
   ],
   "source": [
    "t4=[i for i in N:-1:1]"
   ]
  },
  {
   "cell_type": "code",
   "execution_count": 3,
   "id": "36210a6a-8333-4ce6-8423-e7f38eb9ff91",
   "metadata": {},
   "outputs": [
    {
     "data": {
      "text/plain": [
       "47-element Vector{Int64}:\n",
       "  1\n",
       "  2\n",
       "  3\n",
       "  4\n",
       "  5\n",
       "  6\n",
       "  7\n",
       "  8\n",
       "  9\n",
       " 10\n",
       " 11\n",
       " 12\n",
       " 13\n",
       "  ⋮\n",
       " 12\n",
       " 11\n",
       " 10\n",
       "  9\n",
       "  8\n",
       "  7\n",
       "  6\n",
       "  5\n",
       "  4\n",
       "  3\n",
       "  2\n",
       "  1"
      ]
     },
     "execution_count": 3,
     "metadata": {},
     "output_type": "execute_result"
    }
   ],
   "source": [
    "append!(t5,t4[2:end])"
   ]
  },
  {
   "cell_type": "code",
   "execution_count": 76,
   "id": "6b7a94ba-92dd-4910-afb5-677cb0451ce9",
   "metadata": {},
   "outputs": [
    {
     "data": {
      "text/plain": [
       "3-element Vector{Int64}:\n",
       " 4\n",
       " 6\n",
       " 3"
      ]
     },
     "execution_count": 76,
     "metadata": {},
     "output_type": "execute_result"
    }
   ],
   "source": [
    "tmp=[4, 6, 3]"
   ]
  },
  {
   "cell_type": "code",
   "execution_count": 77,
   "id": "c82931f4-0b72-4778-8d08-ce3128f1db5a",
   "metadata": {},
   "outputs": [
    {
     "data": {
      "text/plain": [
       "10-element Vector{Int64}:\n",
       " 4\n",
       " 4\n",
       " 4\n",
       " 4\n",
       " 4\n",
       " 4\n",
       " 4\n",
       " 4\n",
       " 4\n",
       " 4"
      ]
     },
     "execution_count": 77,
     "metadata": {},
     "output_type": "execute_result"
    }
   ],
   "source": [
    "fill(tmp[1],10)"
   ]
  },
  {
   "cell_type": "code",
   "execution_count": 78,
   "id": "f89e188a-3637-4a8f-a07a-febb0d75ffbd",
   "metadata": {},
   "outputs": [
    {
     "data": {
      "text/plain": [
       "30-element Vector{Int64}:\n",
       " 4\n",
       " 6\n",
       " 3\n",
       " 4\n",
       " 6\n",
       " 3\n",
       " 4\n",
       " 6\n",
       " 3\n",
       " 4\n",
       " 6\n",
       " 3\n",
       " 4\n",
       " ⋮\n",
       " 4\n",
       " 6\n",
       " 3\n",
       " 4\n",
       " 6\n",
       " 3\n",
       " 4\n",
       " 6\n",
       " 3\n",
       " 4\n",
       " 6\n",
       " 3"
      ]
     },
     "execution_count": 78,
     "metadata": {},
     "output_type": "execute_result"
    }
   ],
   "source": [
    "tmp1=repeat(tmp,10)"
   ]
  },
  {
   "cell_type": "code",
   "execution_count": 79,
   "id": "5c30b86b-a095-4702-9c56-001adf2d2f7d",
   "metadata": {},
   "outputs": [
    {
     "data": {
      "text/plain": [
       "31-element Vector{Int64}:\n",
       " 4\n",
       " 6\n",
       " 3\n",
       " 4\n",
       " 6\n",
       " 3\n",
       " 4\n",
       " 6\n",
       " 3\n",
       " 4\n",
       " 6\n",
       " 3\n",
       " 4\n",
       " ⋮\n",
       " 6\n",
       " 3\n",
       " 4\n",
       " 6\n",
       " 3\n",
       " 4\n",
       " 6\n",
       " 3\n",
       " 4\n",
       " 6\n",
       " 3\n",
       " 4"
      ]
     },
     "execution_count": 79,
     "metadata": {},
     "output_type": "execute_result"
    }
   ],
   "source": [
    "append!(tmp1,tmp[1])"
   ]
  },
  {
   "cell_type": "code",
   "execution_count": 80,
   "id": "30bbde14-4eca-48ee-98be-6e1defd46048",
   "metadata": {},
   "outputs": [
    {
     "data": {
      "text/plain": [
       "60-element Vector{Int64}:\n",
       " 4\n",
       " 4\n",
       " 4\n",
       " 4\n",
       " 4\n",
       " 4\n",
       " 4\n",
       " 4\n",
       " 4\n",
       " 4\n",
       " 6\n",
       " 6\n",
       " 6\n",
       " ⋮\n",
       " 3\n",
       " 3\n",
       " 3\n",
       " 3\n",
       " 3\n",
       " 3\n",
       " 3\n",
       " 3\n",
       " 3\n",
       " 3\n",
       " 3\n",
       " 3"
      ]
     },
     "execution_count": 80,
     "metadata": {},
     "output_type": "execute_result"
    }
   ],
   "source": [
    "t6=fill(tmp[1],10)\n",
    "t7=fill(tmp[2],20)\n",
    "t8=fill(tmp[3],30)\n",
    "append!(t6,t7)\n",
    "append!(t6,t8)"
   ]
  },
  {
   "cell_type": "code",
   "execution_count": 81,
   "id": "0ea604a3-d967-47c2-a1bc-e27af8897be1",
   "metadata": {},
   "outputs": [
    {
     "data": {
      "text/plain": [
       "3-element Vector{Int64}:\n",
       " 16\n",
       " 64\n",
       "  8"
      ]
     },
     "execution_count": 81,
     "metadata": {},
     "output_type": "execute_result"
    }
   ],
   "source": [
    "t9=[2^tmp[i] for i in 1:3]"
   ]
  },
  {
   "cell_type": "code",
   "execution_count": 82,
   "id": "35ae39a7-6ae9-4316-b2d8-0fd2df565e57",
   "metadata": {},
   "outputs": [
    {
     "data": {
      "text/plain": [
       "6-element Vector{Int64}:\n",
       " 16\n",
       " 64\n",
       "  8\n",
       "  8\n",
       "  8\n",
       "  8"
      ]
     },
     "execution_count": 82,
     "metadata": {},
     "output_type": "execute_result"
    }
   ],
   "source": [
    "t10=fill(2^tmp[3],3)\n",
    "append!(t9,t10)"
   ]
  },
  {
   "cell_type": "code",
   "execution_count": 83,
   "id": "5fc40986-8dcc-45e0-8e62-fd8677e82279",
   "metadata": {},
   "outputs": [
    {
     "name": "stdout",
     "output_type": "stream",
     "text": [
      "2"
     ]
    }
   ],
   "source": [
    "a=0\n",
    "for i in 1:length(t9)\n",
    "    for j in 0:5\n",
    "        if div(t9[i],10^j)%10==6\n",
    "            a=a+1\n",
    "        end\n",
    "    end\n",
    "end\n",
    "print(a)"
   ]
  },
  {
   "cell_type": "code",
   "execution_count": 85,
   "id": "82711186-86bb-49be-9f9f-9abf23c29e0d",
   "metadata": {},
   "outputs": [
    {
     "data": {
      "text/plain": [
       "31-element Vector{Float64}:\n",
       " -19.884530844146987\n",
       " -22.178753389342127\n",
       " -24.490696732801293\n",
       " -26.77318244299338\n",
       " -28.969237768093574\n",
       " -31.011186439374516\n",
       " -32.819774760338504\n",
       " -34.30336011037369\n",
       " -35.35719361853035\n",
       " -35.86283371230767\n",
       " -35.68773248011913\n",
       " -34.68504225166807\n",
       " -32.693695428321746\n",
       "   ⋮\n",
       "  25.046704998273004\n",
       "  42.09920106253839\n",
       "  61.99663027669454\n",
       "  84.92906736250268\n",
       " 111.0615860420258\n",
       " 140.5250750527875\n",
       " 173.40577640857734\n",
       " 209.73349424783467\n",
       " 249.46844055885668\n",
       " 292.4867067371223\n",
       " 338.5643778585117\n",
       " 387.36034029093076"
      ]
     },
     "execution_count": 85,
     "metadata": {},
     "output_type": "execute_result"
    }
   ],
   "source": [
    "y=[cos(x)*exp(x) for x in 3:0.1:6]"
   ]
  },
  {
   "cell_type": "code",
   "execution_count": 88,
   "id": "00f2b04b-97f1-46ee-a028-a0713ee3dca8",
   "metadata": {},
   "outputs": [
    {
     "name": "stdout",
     "output_type": "stream",
     "text": [
      "y mean = 53.11374594642971"
     ]
    }
   ],
   "source": [
    "summy=0\n",
    "for i in 1:length(y)\n",
    "    summy+=y[i]\n",
    "end\n",
    "print(\"y mean = \", summy/length(y))"
   ]
  },
  {
   "cell_type": "code",
   "execution_count": 89,
   "id": "53bf5b86-14b0-478c-bd40-6f93371237d8",
   "metadata": {},
   "outputs": [
    {
     "data": {
      "text/plain": [
       "12-element Vector{Matrix{Float64}}:\n",
       " [0.0010000000000000002 0.2]\n",
       " [1.0000000000000004e-6 0.0016000000000000003]\n",
       " [1.0000000000000005e-9 1.2800000000000005e-5]\n",
       " [1.0000000000000006e-12 1.0240000000000006e-7]\n",
       " [1.0000000000000009e-15 8.192000000000005e-10]\n",
       " [1.000000000000001e-18 6.5536000000000055e-12]\n",
       " [1.0000000000000012e-21 5.2428800000000056e-14]\n",
       " [1.0000000000000014e-24 4.194304000000005e-16]\n",
       " [1.0000000000000015e-27 3.3554432000000048e-18]\n",
       " [1.0000000000000017e-30 2.684354560000004e-20]\n",
       " [1.0000000000000018e-33 2.1474836480000035e-22]\n",
       " [1.000000000000002e-36 1.717986918400003e-24]"
      ]
     },
     "execution_count": 89,
     "metadata": {},
     "output_type": "execute_result"
    }
   ],
   "source": [
    "arr311=[[0.1^i 0.2^(i-2)] for i in 3:3:36]"
   ]
  },
  {
   "cell_type": "code",
   "execution_count": 90,
   "id": "91687938-156b-459a-aa53-580b9bd25eac",
   "metadata": {},
   "outputs": [
    {
     "data": {
      "text/plain": [
       "25-element Vector{Float64}:\n",
       "      2.0\n",
       "      2.0\n",
       "      2.6666666666666665\n",
       "      4.0\n",
       "      6.4\n",
       "     10.666666666666666\n",
       "     18.285714285714285\n",
       "     32.0\n",
       "     56.888888888888886\n",
       "    102.4\n",
       "    186.1818181818182\n",
       "    341.3333333333333\n",
       "    630.1538461538462\n",
       "   1170.2857142857142\n",
       "   2184.5333333333333\n",
       "   4096.0\n",
       "   7710.117647058823\n",
       "  14563.555555555555\n",
       "  27594.105263157893\n",
       "  52428.8\n",
       "  99864.38095238095\n",
       " 190650.18181818182\n",
       " 364722.0869565217\n",
       " 699050.6666666666\n",
       "      1.34217728e6"
      ]
     },
     "execution_count": 90,
     "metadata": {},
     "output_type": "execute_result"
    }
   ],
   "source": [
    "M=25\n",
    "arr312=[(2^i)/i for i in 1:M]"
   ]
  },
  {
   "cell_type": "code",
   "execution_count": 113,
   "id": "dc9f6853-824c-4946-acf3-9ab844d3a6ac",
   "metadata": {},
   "outputs": [
    {
     "data": {
      "text/plain": [
       "30-element Vector{String}:\n",
       " \"fn1\"\n",
       " \"fn2\"\n",
       " \"fn3\"\n",
       " \"fn4\"\n",
       " \"fn5\"\n",
       " \"fn6\"\n",
       " \"fn7\"\n",
       " \"fn8\"\n",
       " \"fn9\"\n",
       " \"fn10\"\n",
       " \"fn11\"\n",
       " \"fn12\"\n",
       " \"fn13\"\n",
       " ⋮\n",
       " \"fn19\"\n",
       " \"fn20\"\n",
       " \"fn21\"\n",
       " \"fn22\"\n",
       " \"fn23\"\n",
       " \"fn24\"\n",
       " \"fn25\"\n",
       " \"fn26\"\n",
       " \"fn27\"\n",
       " \"fn28\"\n",
       " \"fn29\"\n",
       " \"fn30\""
      ]
     },
     "execution_count": 113,
     "metadata": {},
     "output_type": "execute_result"
    }
   ],
   "source": [
    "N=30\n",
    "arr313=[\"fn\"*string(i) for i in 1:N]"
   ]
  },
  {
   "cell_type": "code",
   "execution_count": 4,
   "id": "c96864b6-b299-4115-9f67-0b27bc148371",
   "metadata": {},
   "outputs": [
    {
     "data": {
      "text/plain": [
       "250-element Vector{Int64}:\n",
       " 285\n",
       " 260\n",
       " 777\n",
       " 506\n",
       " 618\n",
       " 766\n",
       " 591\n",
       "  10\n",
       " 399\n",
       " 263\n",
       " 532\n",
       " 144\n",
       " 301\n",
       "   ⋮\n",
       " 931\n",
       " 896\n",
       " 488\n",
       " 124\n",
       " 571\n",
       " 652\n",
       " 966\n",
       " 406\n",
       " 336\n",
       " 717\n",
       " 529\n",
       " 553"
      ]
     },
     "execution_count": 4,
     "metadata": {},
     "output_type": "execute_result"
    }
   ],
   "source": [
    "N=250\n",
    "x314=rand(0:999, N)\n",
    "y314=rand(0:999, N)"
   ]
  },
  {
   "cell_type": "code",
   "execution_count": 5,
   "id": "72843e7b-e2e2-456d-9d23-e452a56fd55b",
   "metadata": {},
   "outputs": [
    {
     "data": {
      "text/plain": [
       "249-element Vector{Int64}:\n",
       " -191\n",
       "  -63\n",
       "  -79\n",
       "  563\n",
       "  533\n",
       "  573\n",
       " -483\n",
       "   58\n",
       " -609\n",
       "  383\n",
       " -686\n",
       " -164\n",
       " -773\n",
       "    ⋮\n",
       "  609\n",
       "  203\n",
       " -285\n",
       " -686\n",
       "  518\n",
       " -114\n",
       "  637\n",
       " -248\n",
       " -546\n",
       "  234\n",
       "  244\n",
       " -325"
      ]
     },
     "execution_count": 5,
     "metadata": {},
     "output_type": "execute_result"
    }
   ],
   "source": [
    "t3141=[y314[i+1]-x314[i] for i in 1:N-1]"
   ]
  },
  {
   "cell_type": "code",
   "execution_count": 164,
   "id": "4883f3f9-536d-4a26-9a4b-b941c7a5f74f",
   "metadata": {},
   "outputs": [
    {
     "data": {
      "text/plain": [
       "248-element Vector{Int64}:\n",
       " 1126\n",
       " 1339\n",
       " 1465\n",
       " 2518\n",
       "  253\n",
       " 1039\n",
       " 1443\n",
       "  623\n",
       "  -92\n",
       " 1394\n",
       "  682\n",
       "  614\n",
       "   10\n",
       "    ⋮\n",
       "  711\n",
       " 1412\n",
       " 1403\n",
       " 1447\n",
       " -172\n",
       " 1487\n",
       " 2034\n",
       "  598\n",
       "  300\n",
       " 1524\n",
       "  941\n",
       "  227"
      ]
     },
     "execution_count": 164,
     "metadata": {},
     "output_type": "execute_result"
    }
   ],
   "source": [
    "t3142=[x314[i]+2*x314[i+1]-x314[i+2] for i in 1:N-2]"
   ]
  },
  {
   "cell_type": "code",
   "execution_count": 165,
   "id": "b518291d-f27d-4817-abff-41b33a5b5c61",
   "metadata": {},
   "outputs": [
    {
     "data": {
      "text/plain": [
       "249-element Vector{Float64}:\n",
       "    4.380285486474569\n",
       "   -0.6815204438976953\n",
       "    2.9100592596446186\n",
       "   -4.503192558366575\n",
       "    0.7230623961879205\n",
       " -156.5782350868654\n",
       "   23.65045512229104\n",
       "    1.1145805765484145\n",
       "    0.9884868255616273\n",
       "   -1.3362478719992334\n",
       "    0.16586660815822404\n",
       "   -0.13095549863225464\n",
       "    0.9593392937879452\n",
       "    ⋮\n",
       "    6.423627927880629\n",
       "   -2.7153253098841303\n",
       "   -0.6596325415130156\n",
       "    1.111822943518316\n",
       "    1.4465436391552542\n",
       "   -0.9732449443388187\n",
       "   -0.05507981687258166\n",
       "   -0.7627770633858157\n",
       "    0.897674188002464\n",
       "   -1.9212613758875194\n",
       "    1.6994123672757662\n",
       "    2.5901815629956526"
      ]
     },
     "execution_count": 165,
     "metadata": {},
     "output_type": "execute_result"
    }
   ],
   "source": [
    "t3143=[sin(y314[i])/cos(x314[i+1]) for i in 1:N-1]"
   ]
  },
  {
   "cell_type": "code",
   "execution_count": 166,
   "id": "a5fb43a5-1b01-474f-a797-97007a00d2c7",
   "metadata": {},
   "outputs": [
    {
     "data": {
      "text/plain": [
       "0.0006578070827282885"
      ]
     },
     "execution_count": 166,
     "metadata": {},
     "output_type": "execute_result"
    }
   ],
   "source": [
    "t3144=0\n",
    "for i in 1:N-1\n",
    "    t3144+=(exp(-x314[i+1])/(x314[i]+10))\n",
    "end\n",
    "t3144"
   ]
  },
  {
   "cell_type": "code",
   "execution_count": 167,
   "id": "8df84985-951b-4ed3-a77b-ac5f28fe5d0b",
   "metadata": {},
   "outputs": [
    {
     "name": "stdout",
     "output_type": "stream",
     "text": [
      "5 698\n",
      "7 847\n",
      "8 822\n",
      "10 954\n",
      "13 801\n",
      "16 603\n",
      "17 717\n",
      "18 706\n",
      "20 992\n",
      "23 620\n",
      "26 870\n",
      "27 669\n",
      "30 604\n",
      "32 695\n",
      "33 682\n",
      "39 964\n",
      "43 652\n",
      "44 849\n",
      "47 954\n",
      "48 951\n",
      "49 973\n",
      "52 761\n",
      "55 818\n",
      "57 627\n",
      "58 682\n",
      "61 727\n",
      "66 735\n",
      "69 773\n",
      "73 796\n",
      "77 789\n",
      "79 720\n",
      "83 820\n",
      "84 839\n",
      "85 781\n",
      "86 730\n",
      "89 735\n",
      "93 635\n",
      "98 607\n",
      "100 968\n",
      "102 645\n",
      "104 655\n",
      "108 602\n",
      "110 609\n",
      "113 644\n",
      "114 656\n",
      "115 928\n",
      "116 669\n",
      "117 985\n",
      "118 793\n",
      "120 667\n",
      "121 622\n",
      "124 861\n",
      "126 667\n",
      "127 851\n",
      "129 656\n",
      "130 689\n",
      "131 610\n",
      "132 841\n",
      "134 746\n",
      "138 660\n",
      "139 729\n",
      "140 815\n",
      "142 671\n",
      "143 884\n",
      "144 956\n",
      "148 895\n",
      "149 974\n",
      "151 749\n",
      "152 608\n",
      "153 905\n",
      "160 917\n",
      "165 944\n",
      "167 902\n",
      "170 666\n",
      "171 994\n",
      "173 710\n",
      "174 906\n",
      "175 627\n",
      "176 791\n",
      "177 669\n",
      "181 701\n",
      "182 894\n",
      "184 628\n",
      "190 605\n",
      "191 745\n",
      "192 926\n",
      "193 671\n",
      "194 899\n",
      "195 780\n",
      "196 981\n",
      "198 699\n",
      "202 922\n",
      "203 603\n",
      "204 882\n",
      "205 892\n",
      "206 879\n",
      "207 968\n",
      "209 617\n",
      "216 891\n",
      "221 681\n",
      "223 873\n",
      "225 830\n",
      "226 655\n",
      "229 857\n",
      "233 872\n",
      "235 879\n",
      "236 699\n",
      "237 766\n",
      "239 927\n",
      "241 909\n",
      "247 608\n",
      "248 920\n",
      "249 714\n",
      "250 946\n"
     ]
    }
   ],
   "source": [
    "for i in 1:N\n",
    "    if y314[i]>600\n",
    "        println(i, \" \", y314[i])\n",
    "    end\n",
    "end"
   ]
  },
  {
   "cell_type": "code",
   "execution_count": 168,
   "id": "081b3b3e-178f-47ed-a63d-c095df05de49",
   "metadata": {},
   "outputs": [
    {
     "name": "stdout",
     "output_type": "stream",
     "text": [
      "872\n",
      "721\n",
      "454\n",
      "203\n",
      "356\n",
      "398\n",
      "485\n",
      "603\n",
      "805\n",
      "758\n",
      "597\n",
      "882\n",
      "967\n",
      "404\n",
      "554\n",
      "158\n",
      "736\n",
      "858\n",
      "513\n",
      "469\n",
      "468\n",
      "235\n",
      "690\n",
      "926\n",
      "698\n",
      "788\n",
      "24\n",
      "274\n",
      "784\n",
      "555\n",
      "118\n",
      "184\n",
      "265\n",
      "479\n",
      "9\n",
      "998\n",
      "964\n",
      "119\n",
      "598\n",
      "803\n",
      "10\n",
      "288\n",
      "106\n",
      "241\n",
      "247\n",
      "643\n",
      "65\n",
      "883\n",
      "798\n",
      "857\n",
      "521\n",
      "722\n",
      "326\n",
      "66\n",
      "329\n",
      "565\n",
      "989\n",
      "501\n",
      "273\n",
      "540\n",
      "179\n",
      "554\n",
      "54\n",
      "796\n",
      "397\n",
      "750\n",
      "919\n",
      "171\n",
      "100\n",
      "306\n",
      "390\n",
      "804\n",
      "421\n",
      "530\n",
      "598\n",
      "74\n",
      "968\n",
      "680\n",
      "240\n",
      "720\n",
      "2\n",
      "341\n",
      "877\n",
      "678\n",
      "822\n",
      "809\n",
      "631\n",
      "404\n",
      "573\n",
      "243\n",
      "762\n",
      "23\n",
      "839\n",
      "69\n",
      "573\n",
      "35\n",
      "385\n",
      "897\n",
      "612\n",
      "74\n",
      "731\n",
      "6\n",
      "40\n",
      "197\n",
      "196\n",
      "334\n",
      "227\n",
      "709\n",
      "790\n",
      "515\n",
      "703\n",
      "288\n",
      "338\n",
      "737\n"
     ]
    }
   ],
   "source": [
    "for i in 1:N\n",
    "    if y314[i]>600\n",
    "        println(x314[i])\n",
    "    end\n",
    "end"
   ]
  },
  {
   "cell_type": "code",
   "execution_count": 169,
   "id": "6bc9159a-f1c4-4eda-a7c9-283fcb312299",
   "metadata": {},
   "outputs": [
    {
     "data": {
      "text/plain": [
       "250-element Vector{Float64}:\n",
       " 16.48199017109281\n",
       " 16.892128344291017\n",
       " 13.503481032681906\n",
       " 17.898156329633508\n",
       " 19.166220284657065\n",
       " 21.299201862980688\n",
       " 14.708636918491122\n",
       "  7.117302859932265\n",
       " 17.850938350686217\n",
       " 17.368246889078932\n",
       " 13.391937873213122\n",
       " 18.101270673629518\n",
       " 12.192456684360211\n",
       "  ⋮\n",
       " 16.892128344291017\n",
       "  7.703505695460995\n",
       "  3.21620894843603\n",
       " 18.911795261159106\n",
       " 21.825306412511143\n",
       " 10.832543560955571\n",
       " 17.710335965192755\n",
       "  9.932572677811121\n",
       " 14.08346548261471\n",
       " 14.71923911076928\n",
       " 12.909531362524358\n",
       " 15.242834382095738"
      ]
     },
     "execution_count": 169,
     "metadata": {},
     "output_type": "execute_result"
    }
   ],
   "source": [
    "using Statistics\n",
    "t3147=[sqrt(abs(x314[i]-mean(x314))) for i in 1:N]"
   ]
  },
  {
   "cell_type": "code",
   "execution_count": 170,
   "id": "7ff8e85b-04cb-4aae-9ea4-d1bd02bd1953",
   "metadata": {},
   "outputs": [
    {
     "data": {
      "text/plain": [
       "51"
      ]
     },
     "execution_count": 170,
     "metadata": {},
     "output_type": "execute_result"
    }
   ],
   "source": [
    "t3148=0\n",
    "maxy314=0\n",
    "for i in 1:N\n",
    "    if y314[i]>maxy314\n",
    "        maxy314=y314[i]\n",
    "    end\n",
    "end\n",
    "for i in 1:N\n",
    "    if maxy314-y314[i]<=200\n",
    "        t3148+=1\n",
    "    end\n",
    "end\n",
    "t3148"
   ]
  },
  {
   "cell_type": "code",
   "execution_count": 171,
   "id": "b3918dc4-20ff-47dc-9a96-09a2e3eb42bb",
   "metadata": {},
   "outputs": [
    {
     "name": "stdout",
     "output_type": "stream",
     "text": [
      "124 126"
     ]
    }
   ],
   "source": [
    "xch=0\n",
    "xnch=0\n",
    "for i in 1:N\n",
    "    if x314[i]%2==0\n",
    "        xch+=1\n",
    "    else\n",
    "        xnch+=1\n",
    "    end\n",
    "end\n",
    "print(xch, \" \", xnch)    "
   ]
  },
  {
   "cell_type": "code",
   "execution_count": 172,
   "id": "ff75d33d-fa0b-4e69-9c19-d6407ec27122",
   "metadata": {},
   "outputs": [
    {
     "name": "stdout",
     "output_type": "stream",
     "text": [
      "32"
     ]
    }
   ],
   "source": [
    "t31410=0\n",
    "for i in 1:N\n",
    "    if x314[i]%7==0\n",
    "        t31410+=1\n",
    "    end\n",
    "end\n",
    "print(t31410)"
   ]
  },
  {
   "cell_type": "code",
   "execution_count": 176,
   "id": "c3ed1b33-7e0e-4bcb-92b8-842507008e0c",
   "metadata": {},
   "outputs": [
    {
     "data": {
      "text/plain": [
       "250-element Vector{Any}:\n",
       " 233\n",
       " 790\n",
       " 687\n",
       " 825\n",
       " 872\n",
       "  51\n",
       " 721\n",
       " 454\n",
       " 186\n",
       " 203\n",
       " 684\n",
       " 177\n",
       " 356\n",
       "   ⋮\n",
       " 790\n",
       " 564\n",
       " 515\n",
       " 147\n",
       " 981\n",
       " 622\n",
       " 191\n",
       " 406\n",
       " 703\n",
       " 288\n",
       " 338\n",
       " 737"
      ]
     },
     "execution_count": 176,
     "metadata": {},
     "output_type": "execute_result"
    }
   ],
   "source": [
    "#y314=rand(0:999, 250)\n",
    "a=collect(1:250)\n",
    "check=0\n",
    "for i in 1:N\n",
    "    for j in 1:N-i\n",
    "        if y314[j]>y314[j+1]\n",
    "            check=y314[j]\n",
    "            y314[j]=y314[j+1]\n",
    "            y314[j+1]=check\n",
    "            check=a[j]\n",
    "            a[j]=a[j+1]\n",
    "            a[j+1]=check\n",
    "        end\n",
    "    end\n",
    "end\n",
    "t31411=[]\n",
    "for i in 1:N\n",
    "    append!(t31411, x314[a[i]])\n",
    "end\n",
    "t31411"
   ]
  },
  {
   "cell_type": "code",
   "execution_count": 179,
   "id": "72894e87-b894-4be5-8ef0-68afe7969e64",
   "metadata": {},
   "outputs": [
    {
     "name": "stdout",
     "output_type": "stream",
     "text": [
      "[949, 952, 956, 964, 967, 968, 977, 981, 989, 998]"
     ]
    }
   ],
   "source": [
    "t31412=sort(x314)\n",
    "print(t31412[241:250])"
   ]
  },
  {
   "cell_type": "code",
   "execution_count": 183,
   "id": "80f1c322-da88-4d31-89f9-d7f35f5cc97d",
   "metadata": {},
   "outputs": [
    {
     "data": {
      "text/plain": [
       "217-element Vector{Int64}:\n",
       "   1\n",
       "   2\n",
       "   6\n",
       "   9\n",
       "  10\n",
       "  14\n",
       "  23\n",
       "  24\n",
       "  35\n",
       "  39\n",
       "  40\n",
       "  43\n",
       "  45\n",
       "   ⋮\n",
       " 928\n",
       " 944\n",
       " 949\n",
       " 952\n",
       " 956\n",
       " 964\n",
       " 967\n",
       " 968\n",
       " 977\n",
       " 981\n",
       " 989\n",
       " 998"
      ]
     },
     "execution_count": 183,
     "metadata": {},
     "output_type": "execute_result"
    }
   ],
   "source": [
    "t31413=[t31412[1]]\n",
    "for i in 1:N\n",
    "    if t31412[i]!=t31413[end]\n",
    "        append!(t31413, t31412[i])\n",
    "    end\n",
    "end\n",
    "t31413"
   ]
  },
  {
   "cell_type": "code",
   "execution_count": 184,
   "id": "55e0577c-7b7d-40db-a22e-bd37774c147a",
   "metadata": {},
   "outputs": [
    {
     "data": {
      "text/plain": [
       "100-element Vector{Int64}:\n",
       "     1\n",
       "     4\n",
       "     9\n",
       "    16\n",
       "    25\n",
       "    36\n",
       "    49\n",
       "    64\n",
       "    81\n",
       "   100\n",
       "   121\n",
       "   144\n",
       "   169\n",
       "     ⋮\n",
       "  7921\n",
       "  8100\n",
       "  8281\n",
       "  8464\n",
       "  8649\n",
       "  8836\n",
       "  9025\n",
       "  9216\n",
       "  9409\n",
       "  9604\n",
       "  9801\n",
       " 10000"
      ]
     },
     "execution_count": 184,
     "metadata": {},
     "output_type": "execute_result"
    }
   ],
   "source": [
    "squares=[i^2 for i in 1:100]"
   ]
  },
  {
   "cell_type": "code",
   "execution_count": 188,
   "id": "6aefbc9f-cc8f-4a7a-82a0-87da08bd17d1",
   "metadata": {},
   "outputs": [],
   "source": [
    "using Primes"
   ]
  },
  {
   "cell_type": "code",
   "execution_count": 191,
   "id": "1ec8f94c-3e81-4baa-a9f0-b946a326f95a",
   "metadata": {},
   "outputs": [
    {
     "name": "stdout",
     "output_type": "stream",
     "text": [
      "[2, 3, 5, 7, 11, 13, 17, 19, 23, 29, 31, 37, 41, 43, 47, 53, 59, 61, 67, 71, 73, 79, 83, 89, 97, 101, 103, 107, 109, 113, 127, 131, 137, 139, 149, 151, 157, 163, 167, 173, 179, 181, 191, 193, 197, 199, 211, 223, 227, 229, 233, 239, 241, 251, 257, 263, 269, 271, 277, 281, 283, 293, 307, 311, 313, 317, 331, 337, 347, 349, 353, 359, 367, 373, 379, 383, 389, 397, 401, 409, 419, 421, 431, 433, 439, 443, 449, 457, 461, 463, 467, 479, 487, 491, 499, 503, 509, 521, 523, 541, 547, 557, 563, 569, 571, 577, 587, 593, 599, 601, 607, 613, 617, 619, 631, 641, 643, 647, 653, 659, 661, 673, 677, 683, 691, 701, 709, 719, 727, 733, 739, 743, 751, 757, 761, 769, 773, 787, 797, 809, 811, 821, 823, 827, 829, 839, 853, 857, 859, 863, 877, 881, 883, 887, 907, 911, 919, 929, 937, 941, 947, 953, 967, 971, 977, 983, 991, 997]\n",
      "461\n",
      "[461, 463, 467, 479, 487, 491, 499, 503, 509, 521, 523]"
     ]
    }
   ],
   "source": [
    "t5=[prime(i) for i in 1:168]\n",
    "println(t5)\n",
    "println(t5[89])\n",
    "t51=t5[89:99]\n",
    "print(t51)"
   ]
  },
  {
   "cell_type": "code",
   "execution_count": 194,
   "id": "f8900190-4b77-4370-9bc1-c5ce4460a0f0",
   "metadata": {},
   "outputs": [
    {
     "name": "stdout",
     "output_type": "stream",
     "text": [
      "26852735"
     ]
    }
   ],
   "source": [
    "t61=0\n",
    "for i in 10:100\n",
    "    t61+=i^3+4*i^2\n",
    "end\n",
    "print(t61)"
   ]
  },
  {
   "cell_type": "code",
   "execution_count": 198,
   "id": "b2601372-ae4a-41b8-aa8f-6521fae6b640",
   "metadata": {},
   "outputs": [
    {
     "name": "stdout",
     "output_type": "stream",
     "text": [
      "2.1291704368143802e9"
     ]
    }
   ],
   "source": [
    "t62=0\n",
    "M=25\n",
    "for i in 1:M\n",
    "    t62+= 2^i/i + 3^i/i^2\n",
    "end\n",
    "print(t62)"
   ]
  },
  {
   "cell_type": "code",
   "execution_count": 199,
   "id": "fe5ec117-38f5-4123-b024-cf5d8ea23b24",
   "metadata": {},
   "outputs": [
    {
     "name": "stdout",
     "output_type": "stream",
     "text": [
      "6.976346137897618"
     ]
    }
   ],
   "source": [
    "t63=1\n",
    "check=1\n",
    "for i in 1:19\n",
    "    check*=2*i/(2*i+1)\n",
    "    t63+=check\n",
    "end\n",
    "print(t63)"
   ]
  },
  {
   "cell_type": "code",
   "execution_count": null,
   "id": "cd43b850-cdea-4ae8-b7d7-2ddf6516fd75",
   "metadata": {},
   "outputs": [],
   "source": []
  }
 ],
 "metadata": {
  "kernelspec": {
   "display_name": "Julia 1.6.2",
   "language": "julia",
   "name": "julia-1.6"
  },
  "language_info": {
   "file_extension": ".jl",
   "mimetype": "application/julia",
   "name": "julia",
   "version": "1.6.2"
  }
 },
 "nbformat": 4,
 "nbformat_minor": 5
}
